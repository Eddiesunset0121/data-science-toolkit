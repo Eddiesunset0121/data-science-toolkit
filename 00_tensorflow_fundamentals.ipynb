{
  "nbformat": 4,
  "nbformat_minor": 0,
  "metadata": {
    "colab": {
      "provenance": [],
      "gpuType": "T4",
      "toc_visible": true
    },
    "kernelspec": {
      "name": "python3",
      "display_name": "Python 3"
    },
    "language_info": {
      "name": "python"
    },
    "accelerator": "GPU"
  },
  "cells": [
    {
      "cell_type": "markdown",
      "source": [
        "# In this notebook we will cover the most important concepts of Tensorflow\n",
        "especially\n",
        "* intro of tensor\n",
        "* getitng info from tensor\n",
        "* manipulating tensors\n",
        "* tensors and Numpy\n",
        "* using @tf.function (a way to speed up python functions)\n",
        "* using GPUs or TPUs on tensorflow\n",
        "* Excercise to try"
      ],
      "metadata": {
        "id": "jsaj5lFp2_Eb"
      }
    },
    {
      "cell_type": "markdown",
      "source": [
        "# Introdcutions to tensors"
      ],
      "metadata": {
        "id": "dWKGGEwo3XDp"
      }
    },
    {
      "cell_type": "code",
      "source": [
        "# impoort tensorflwow\n",
        "import tensorflow as tf\n",
        "print(tf.__version__)"
      ],
      "metadata": {
        "colab": {
          "base_uri": "https://localhost:8080/"
        },
        "id": "SF87MAph4rk4",
        "outputId": "fc4b6d5d-b477-4ac0-d5b7-dc264cc2b335"
      },
      "execution_count": 1,
      "outputs": [
        {
          "output_type": "stream",
          "name": "stdout",
          "text": [
            "2.18.0\n"
          ]
        }
      ]
    },
    {
      "cell_type": "code",
      "source": [
        "# creating tensors with tf.constant()\n",
        "scalar = tf.constant(7)\n",
        "scalar"
      ],
      "metadata": {
        "colab": {
          "base_uri": "https://localhost:8080/"
        },
        "id": "IZtd58Pc5Gx-",
        "outputId": "8e151248-42c7-411d-a9c1-74a4e24a7146"
      },
      "execution_count": 2,
      "outputs": [
        {
          "output_type": "execute_result",
          "data": {
            "text/plain": [
              "<tf.Tensor: shape=(), dtype=int32, numpy=7>"
            ]
          },
          "metadata": {},
          "execution_count": 2
        }
      ]
    },
    {
      "cell_type": "code",
      "source": [
        "# Check number of dimensions of a tensor (ndim: number of dimensiosn)\n",
        "scalar.ndim"
      ],
      "metadata": {
        "colab": {
          "base_uri": "https://localhost:8080/"
        },
        "id": "QkImsGhL5v8G",
        "outputId": "49dfc4fc-dc29-4098-ec1d-0504d4b8a00a"
      },
      "execution_count": 3,
      "outputs": [
        {
          "output_type": "execute_result",
          "data": {
            "text/plain": [
              "0"
            ]
          },
          "metadata": {},
          "execution_count": 3
        }
      ]
    },
    {
      "cell_type": "code",
      "source": [
        "# Create a vector\n",
        "vector = tf.constant([10,6])\n",
        "vector"
      ],
      "metadata": {
        "colab": {
          "base_uri": "https://localhost:8080/"
        },
        "id": "mRSc1-G27x8r",
        "outputId": "a598d8f8-166f-46c5-a8db-222d7b24644a"
      },
      "execution_count": 4,
      "outputs": [
        {
          "output_type": "execute_result",
          "data": {
            "text/plain": [
              "<tf.Tensor: shape=(2,), dtype=int32, numpy=array([10,  6], dtype=int32)>"
            ]
          },
          "metadata": {},
          "execution_count": 4
        }
      ]
    },
    {
      "cell_type": "code",
      "source": [
        "# Check the dimension of the vector\n",
        "vector.ndim"
      ],
      "metadata": {
        "colab": {
          "base_uri": "https://localhost:8080/"
        },
        "id": "cUJaryCC8C1y",
        "outputId": "bd9f52f9-48f4-4d8f-8ad9-adfb1b830601"
      },
      "execution_count": 5,
      "outputs": [
        {
          "output_type": "execute_result",
          "data": {
            "text/plain": [
              "1"
            ]
          },
          "metadata": {},
          "execution_count": 5
        }
      ]
    },
    {
      "cell_type": "code",
      "source": [
        "# Create a matrix (has more than 1 dimension)\n",
        "matrix = tf.constant([[10,7],[7,10]])\n",
        "matrix"
      ],
      "metadata": {
        "colab": {
          "base_uri": "https://localhost:8080/"
        },
        "id": "p9HI1k8P8fwz",
        "outputId": "b82fd40e-520e-4d0e-8da7-a20c7e3ad845"
      },
      "execution_count": 6,
      "outputs": [
        {
          "output_type": "execute_result",
          "data": {
            "text/plain": [
              "<tf.Tensor: shape=(2, 2), dtype=int32, numpy=\n",
              "array([[10,  7],\n",
              "       [ 7, 10]], dtype=int32)>"
            ]
          },
          "metadata": {},
          "execution_count": 6
        }
      ]
    },
    {
      "cell_type": "code",
      "source": [
        "# Check the dimension of the matrix\n",
        "matrix.ndim"
      ],
      "metadata": {
        "colab": {
          "base_uri": "https://localhost:8080/"
        },
        "id": "_cwe_k_O8u4T",
        "outputId": "48243b69-7d1b-4991-985e-d13f340f6db6"
      },
      "execution_count": 7,
      "outputs": [
        {
          "output_type": "execute_result",
          "data": {
            "text/plain": [
              "2"
            ]
          },
          "metadata": {},
          "execution_count": 7
        }
      ]
    },
    {
      "cell_type": "code",
      "source": [
        "# Create another matrix\n",
        "another_matrix = tf.constant([[1.,2.],\n",
        "                [3.,4.],\n",
        "                [5.,6.]], dtype = tf.float16)  # specify the data type with dtype parameter\n",
        "another_matrix"
      ],
      "metadata": {
        "colab": {
          "base_uri": "https://localhost:8080/"
        },
        "id": "TbN9WFoQ8z1B",
        "outputId": "474613f6-82e1-4df6-a5d9-75f331edc653"
      },
      "execution_count": 8,
      "outputs": [
        {
          "output_type": "execute_result",
          "data": {
            "text/plain": [
              "<tf.Tensor: shape=(3, 2), dtype=float16, numpy=\n",
              "array([[1., 2.],\n",
              "       [3., 4.],\n",
              "       [5., 6.]], dtype=float16)>"
            ]
          },
          "metadata": {},
          "execution_count": 8
        }
      ]
    },
    {
      "cell_type": "code",
      "source": [
        "# What is the number of dimension of another_matrix?\n",
        "another_matrix.ndim"
      ],
      "metadata": {
        "colab": {
          "base_uri": "https://localhost:8080/"
        },
        "id": "w6slMilG9xXu",
        "outputId": "f4b83378-ba2f-45f0-f3dc-6ed3b535d264"
      },
      "execution_count": 9,
      "outputs": [
        {
          "output_type": "execute_result",
          "data": {
            "text/plain": [
              "2"
            ]
          },
          "metadata": {},
          "execution_count": 9
        }
      ]
    },
    {
      "cell_type": "code",
      "source": [
        "# Let's create a tensor\n",
        "tensor = tf.constant([[[1,2,3],\n",
        "            [4,5,6]],\n",
        "            [[7,8,9],\n",
        "            [10,11,12]],\n",
        "            [[13,14,15],\n",
        "            [16,17,18]]\n",
        "            ])\n",
        "tensor"
      ],
      "metadata": {
        "colab": {
          "base_uri": "https://localhost:8080/"
        },
        "id": "2dWefUVAGbYG",
        "outputId": "030bb8e0-a17d-457e-b2a8-ab1552fce732"
      },
      "execution_count": 10,
      "outputs": [
        {
          "output_type": "execute_result",
          "data": {
            "text/plain": [
              "<tf.Tensor: shape=(3, 2, 3), dtype=int32, numpy=\n",
              "array([[[ 1,  2,  3],\n",
              "        [ 4,  5,  6]],\n",
              "\n",
              "       [[ 7,  8,  9],\n",
              "        [10, 11, 12]],\n",
              "\n",
              "       [[13, 14, 15],\n",
              "        [16, 17, 18]]], dtype=int32)>"
            ]
          },
          "metadata": {},
          "execution_count": 10
        }
      ]
    },
    {
      "cell_type": "code",
      "source": [
        "tensor.ndim"
      ],
      "metadata": {
        "colab": {
          "base_uri": "https://localhost:8080/"
        },
        "id": "vai7-0FqG-KO",
        "outputId": "196cee09-8abb-4c2f-82f7-ccadf4e2b857"
      },
      "execution_count": 11,
      "outputs": [
        {
          "output_type": "execute_result",
          "data": {
            "text/plain": [
              "3"
            ]
          },
          "metadata": {},
          "execution_count": 11
        }
      ]
    },
    {
      "cell_type": "code",
      "source": [
        "another_tensor = tf.constant([[1,2,3],[4,5,6],[7,8,9]])\n",
        "another_tensor"
      ],
      "metadata": {
        "colab": {
          "base_uri": "https://localhost:8080/"
        },
        "id": "k1WZITl9Hpll",
        "outputId": "962130dd-56d7-4a60-a940-9bd031f6f600"
      },
      "execution_count": 12,
      "outputs": [
        {
          "output_type": "execute_result",
          "data": {
            "text/plain": [
              "<tf.Tensor: shape=(3, 3), dtype=int32, numpy=\n",
              "array([[1, 2, 3],\n",
              "       [4, 5, 6],\n",
              "       [7, 8, 9]], dtype=int32)>"
            ]
          },
          "metadata": {},
          "execution_count": 12
        }
      ]
    },
    {
      "cell_type": "code",
      "source": [
        "another_tensor.ndim\n",
        "# The .ndim attribute simply returns the length of the shape tuple. Since the tuple (3, 3) has two elements, ndim is 2\n",
        "# A tensor's dimension refers to its number of axes. It's also commonly called the tensor's rank or order. It defines the structure of the data by specifying how many indices are required to locate a single element within the tensor.\n",
        "# Think of the dimension as the level of nesting in the tensor's data structure."
      ],
      "metadata": {
        "colab": {
          "base_uri": "https://localhost:8080/"
        },
        "id": "w06B3-9_IGXf",
        "outputId": "0ee825b1-19f4-44e2-ae71-8bed2c8a98ac"
      },
      "execution_count": 13,
      "outputs": [
        {
          "output_type": "execute_result",
          "data": {
            "text/plain": [
              "2"
            ]
          },
          "metadata": {},
          "execution_count": 13
        }
      ]
    },
    {
      "cell_type": "markdown",
      "source": [
        "#### What we have created so far\n",
        " * scalar: a single number\n",
        " * vector: a number with direction\n",
        " * matrix: a 2-dimensional array of numbers\n",
        " * tensor: a n-dimensional array of numbers (n can be any number, n=0 a scalar, n=1 a vector)\n",
        "\n",
        " * A tensor's dimension refers to its number of axes. It's also commonly called the tensor's rank or order. It defines the structure of the data by specifying how many indices are required to locate a single element within the tensor.\n",
        " * Think of the dimension as the level of nesting in the tensor's data structure."
      ],
      "metadata": {
        "id": "tV1e-cS4IOk4"
      }
    },
    {
      "cell_type": "markdown",
      "source": [
        "### Creating tensors with tf.Variable"
      ],
      "metadata": {
        "id": "3jix6G6qLuTL"
      }
    },
    {
      "cell_type": "code",
      "source": [
        "# Create a tensor with tf.Variable() as above\n",
        "changible_tensor = tf.Variable([10,7])\n",
        "unchangible_tensor = tf.constant([10,7])\n",
        "changible_tensor, unchangible_tensor"
      ],
      "metadata": {
        "colab": {
          "base_uri": "https://localhost:8080/"
        },
        "id": "IwYF9kCJKcXD",
        "outputId": "beff3aa4-77a3-42a1-ddf5-b9088a16cd3d"
      },
      "execution_count": 14,
      "outputs": [
        {
          "output_type": "execute_result",
          "data": {
            "text/plain": [
              "(<tf.Variable 'Variable:0' shape=(2,) dtype=int32, numpy=array([10,  7], dtype=int32)>,\n",
              " <tf.Tensor: shape=(2,), dtype=int32, numpy=array([10,  7], dtype=int32)>)"
            ]
          },
          "metadata": {},
          "execution_count": 14
        }
      ]
    },
    {
      "cell_type": "code",
      "source": [
        "# Lets change one element in our changible_tensor\n",
        "# changible_tensor[0] = 7\n",
        "# changible_tensor\n",
        "# 'ResourceVariable' object does not support item assignment"
      ],
      "metadata": {
        "id": "TpJpjwnDL_uW"
      },
      "execution_count": 15,
      "outputs": []
    },
    {
      "cell_type": "code",
      "source": [
        "# How about we try .assign()\n",
        "changible_tensor[0].assign(7)\n",
        "changible_tensor"
      ],
      "metadata": {
        "colab": {
          "base_uri": "https://localhost:8080/"
        },
        "id": "dHwTk-yPNlly",
        "outputId": "0528ccd6-726b-45a6-ac8c-915553ebad1d"
      },
      "execution_count": 16,
      "outputs": [
        {
          "output_type": "execute_result",
          "data": {
            "text/plain": [
              "<tf.Variable 'Variable:0' shape=(2,) dtype=int32, numpy=array([7, 7], dtype=int32)>"
            ]
          },
          "metadata": {},
          "execution_count": 16
        }
      ]
    },
    {
      "cell_type": "code",
      "source": [
        "# Let's try change our unchangible tensor\n",
        "# unchangible_tensor[0].assign(7)\n",
        "# unchangible_tensor\n",
        "# 'tensorflow.python.framework.ops.EagerTensor' object has no attribute 'assign'"
      ],
      "metadata": {
        "id": "fJXWNY6CN3Fz"
      },
      "execution_count": 17,
      "outputs": []
    },
    {
      "cell_type": "markdown",
      "source": [
        "**Note:**\n",
        "Rarely in practiwce we will need to decide whether to use tf.constant() or tf.Variable(), as Tensorflow does it for you, if in doubt, use tf.constant and later change it if needed"
      ],
      "metadata": {
        "id": "fMxRveCkQuNO"
      }
    },
    {
      "cell_type": "markdown",
      "source": [
        "### Creating random tensors"
      ],
      "metadata": {
        "id": "43vPuTzbONsD"
      }
    },
    {
      "cell_type": "markdown",
      "source": [
        "Random tensors are tensors of some abitrary size which contain random numbers"
      ],
      "metadata": {
        "id": "-rdJBMzJRggO"
      }
    },
    {
      "cell_type": "code",
      "source": [
        "# Create two random (but the same) tensors"
      ],
      "metadata": {
        "id": "7PqA8RrARrGG"
      },
      "execution_count": 18,
      "outputs": []
    },
    {
      "cell_type": "code",
      "source": [
        "random_1 = tf.random.Generator.from_seed(42)   # set seed for reproducibility\n",
        "random_1 = random_1.normal(shape = (3,2))\n",
        "random_2 = tf.random.Generator.from_seed(42)\n",
        "random_2 = random_2.normal(shape = (3,2))\n",
        "\n",
        "# Are they equal? => equal because of the same seed\n",
        "random_1, random_2, random_1 == random_2"
      ],
      "metadata": {
        "colab": {
          "base_uri": "https://localhost:8080/"
        },
        "id": "QDSUSykwRrD_",
        "outputId": "04fac7c5-6655-4b8e-d709-b7cfcfb2d82e"
      },
      "execution_count": 19,
      "outputs": [
        {
          "output_type": "execute_result",
          "data": {
            "text/plain": [
              "(<tf.Tensor: shape=(3, 2), dtype=float32, numpy=\n",
              " array([[-0.7565803 , -0.06854702],\n",
              "        [ 0.07595026, -1.2573844 ],\n",
              "        [-0.23193763, -1.8107855 ]], dtype=float32)>,\n",
              " <tf.Tensor: shape=(3, 2), dtype=float32, numpy=\n",
              " array([[-0.7565803 , -0.06854702],\n",
              "        [ 0.07595026, -1.2573844 ],\n",
              "        [-0.23193763, -1.8107855 ]], dtype=float32)>,\n",
              " <tf.Tensor: shape=(3, 2), dtype=bool, numpy=\n",
              " array([[ True,  True],\n",
              "        [ True,  True],\n",
              "        [ True,  True]])>)"
            ]
          },
          "metadata": {},
          "execution_count": 19
        }
      ]
    },
    {
      "cell_type": "markdown",
      "source": [
        "### Shuffle the order of elements in a tensor"
      ],
      "metadata": {
        "id": "4LYcVZ1SSjx7"
      }
    },
    {
      "cell_type": "code",
      "source": [
        "# Shuffle a tensor (valuable for when you want to shuffle your data so the inherent order doesn't affect learning)\n",
        "not_shuffled = tf.constant([[10,7],\n",
        "               [3,4],\n",
        "               [2,5]])\n",
        "not_shuffled.ndim, not_shuffled\n",
        "\n",
        "# Shuffle our non_shuffled tensor\n",
        "tf.random.set_seed(42)               # global level random seed\n",
        "tf.random.shuffle(not_shuffled, seed = 42)   # operational level random seed"
      ],
      "metadata": {
        "colab": {
          "base_uri": "https://localhost:8080/"
        },
        "id": "mn3qtjExVvdn",
        "outputId": "0f0cd062-11d3-47db-bd04-62327a79b446"
      },
      "execution_count": 20,
      "outputs": [
        {
          "output_type": "execute_result",
          "data": {
            "text/plain": [
              "<tf.Tensor: shape=(3, 2), dtype=int32, numpy=\n",
              "array([[10,  7],\n",
              "       [ 3,  4],\n",
              "       [ 2,  5]], dtype=int32)>"
            ]
          },
          "metadata": {},
          "execution_count": 20
        }
      ]
    },
    {
      "cell_type": "markdown",
      "source": [
        "useful link:\n",
        "https://www.tensorflow.org/api_docs/python/tf/random/set_seed"
      ],
      "metadata": {
        "id": "QYR7oT9aaiJe"
      }
    },
    {
      "cell_type": "code",
      "source": [
        "# Practive: write a random tensor and shuffle it\n",
        "random_tensor_1 = tf.random.Generator.from_seed(42)\n",
        "random_tensor_1 = random_tensor_1.normal(shape = (2,2))\n",
        "\n",
        "# If global seed is set, then the seed is used\n",
        "tf.random.set_seed(42)                            # global level random seed\n",
        "random_tensor_1_shuffled = tf.random.shuffle(random_tensor_1,seed=42)    # operational level random seed\n",
        "random_tensor_1, random_tensor_1_shuffled"
      ],
      "metadata": {
        "colab": {
          "base_uri": "https://localhost:8080/"
        },
        "id": "o7JomawEajBj",
        "outputId": "80a8763b-f404-44c2-d848-2f9d14bbee28"
      },
      "execution_count": 21,
      "outputs": [
        {
          "output_type": "execute_result",
          "data": {
            "text/plain": [
              "(<tf.Tensor: shape=(2, 2), dtype=float32, numpy=\n",
              " array([[-0.7565803 , -0.06854702],\n",
              "        [ 0.07595026, -1.2573844 ]], dtype=float32)>,\n",
              " <tf.Tensor: shape=(2, 2), dtype=float32, numpy=\n",
              " array([[ 0.07595026, -1.2573844 ],\n",
              "        [-0.7565803 , -0.06854702]], dtype=float32)>)"
            ]
          },
          "metadata": {},
          "execution_count": 21
        }
      ]
    },
    {
      "cell_type": "code",
      "source": [
        "random_tensor_2 = tf.random.Generator.from_seed(42)\n",
        "random_tensor_2 = random_tensor_2.normal(shape = (2,2))\n",
        "\n",
        "# If global seed is not set, then the seed is not used even the local seed is set\n",
        "random_tensor_2_shuffled = tf.random.shuffle(random_tensor_2, seed = 42)\n",
        "random_tensor_2, random_tensor_2_shuffled"
      ],
      "metadata": {
        "colab": {
          "base_uri": "https://localhost:8080/"
        },
        "id": "DhGXA3Bbb_7o",
        "outputId": "b87eebd9-dbdc-4b13-cfff-a5df340e424b"
      },
      "execution_count": 22,
      "outputs": [
        {
          "output_type": "execute_result",
          "data": {
            "text/plain": [
              "(<tf.Tensor: shape=(2, 2), dtype=float32, numpy=\n",
              " array([[-0.7565803 , -0.06854702],\n",
              "        [ 0.07595026, -1.2573844 ]], dtype=float32)>,\n",
              " <tf.Tensor: shape=(2, 2), dtype=float32, numpy=\n",
              " array([[-0.7565803 , -0.06854702],\n",
              "        [ 0.07595026, -1.2573844 ]], dtype=float32)>)"
            ]
          },
          "metadata": {},
          "execution_count": 22
        }
      ]
    },
    {
      "cell_type": "markdown",
      "source": [
        "* The reason to use tf.random.shuffle method is to ensure the randomness at the input layer\n",
        "* If we want our shuffled tensor to be in the same order, we need to use the global level random seed as well as the operational level random seeed, (If the code depends on particular seeds to work, specify both global and operation-level seeds explicitly.) since the neutal network initilize itself with random patterns, we need to use operational level random seed to ensure the outcome is reproducible\n"
      ],
      "metadata": {
        "id": "aOAnYAt3jUKG"
      }
    },
    {
      "cell_type": "markdown",
      "source": [
        "### Other way to make tensors"
      ],
      "metadata": {
        "id": "S49B3_uwmFyr"
      }
    },
    {
      "cell_type": "code",
      "source": [
        "# Create a tensor of all 1's\n",
        "tf.ones(shape=(10,7))  # shape(a,b,c) a: number of outer-most layer, b:next layer, c: inner-most layer"
      ],
      "metadata": {
        "colab": {
          "base_uri": "https://localhost:8080/"
        },
        "id": "ZoSyE_eMmI8w",
        "outputId": "3468008a-dc06-439a-eff7-87b48b175de0"
      },
      "execution_count": 23,
      "outputs": [
        {
          "output_type": "execute_result",
          "data": {
            "text/plain": [
              "<tf.Tensor: shape=(10, 7), dtype=float32, numpy=\n",
              "array([[1., 1., 1., 1., 1., 1., 1.],\n",
              "       [1., 1., 1., 1., 1., 1., 1.],\n",
              "       [1., 1., 1., 1., 1., 1., 1.],\n",
              "       [1., 1., 1., 1., 1., 1., 1.],\n",
              "       [1., 1., 1., 1., 1., 1., 1.],\n",
              "       [1., 1., 1., 1., 1., 1., 1.],\n",
              "       [1., 1., 1., 1., 1., 1., 1.],\n",
              "       [1., 1., 1., 1., 1., 1., 1.],\n",
              "       [1., 1., 1., 1., 1., 1., 1.],\n",
              "       [1., 1., 1., 1., 1., 1., 1.]], dtype=float32)>"
            ]
          },
          "metadata": {},
          "execution_count": 23
        }
      ]
    },
    {
      "cell_type": "code",
      "source": [
        "# Create a tensor of all 0's\n",
        "tf.zeros(shape=(3,4))"
      ],
      "metadata": {
        "colab": {
          "base_uri": "https://localhost:8080/"
        },
        "id": "xixafRyOmjjq",
        "outputId": "10081e82-dc6f-46f0-f414-164ad3678332"
      },
      "execution_count": 24,
      "outputs": [
        {
          "output_type": "execute_result",
          "data": {
            "text/plain": [
              "<tf.Tensor: shape=(3, 4), dtype=float32, numpy=\n",
              "array([[0., 0., 0., 0.],\n",
              "       [0., 0., 0., 0.],\n",
              "       [0., 0., 0., 0.]], dtype=float32)>"
            ]
          },
          "metadata": {},
          "execution_count": 24
        }
      ]
    },
    {
      "cell_type": "markdown",
      "source": [
        "### Turn Numpy arrays into tensors\n",
        "\n",
        "The main difference between NumPy arrays and TensorFlow tensors is that tensors can be run on a GPU (much faster for numerical computing)"
      ],
      "metadata": {
        "id": "UrPd_5LVnkYf"
      }
    },
    {
      "cell_type": "code",
      "source": [
        "# We can also turn numpy arrays into tensors\n",
        "import numpy as np\n",
        "\n",
        "numpy_A = np.arange(1,25,dtype=np.int32)  # create a numpy array bewtween 1 and 25\n",
        "numpy_A\n",
        "\n",
        "# X = tf.constant(some_matrix), \"X\" capital for matrix or tensor\n",
        "# y = tf.constant(vector), \"y\" non-capital for vector"
      ],
      "metadata": {
        "colab": {
          "base_uri": "https://localhost:8080/"
        },
        "id": "3b_DsPRInLZX",
        "outputId": "16e04be8-07f0-4850-d1a1-53af43fcf57c"
      },
      "execution_count": 25,
      "outputs": [
        {
          "output_type": "execute_result",
          "data": {
            "text/plain": [
              "array([ 1,  2,  3,  4,  5,  6,  7,  8,  9, 10, 11, 12, 13, 14, 15, 16, 17,\n",
              "       18, 19, 20, 21, 22, 23, 24], dtype=int32)"
            ]
          },
          "metadata": {},
          "execution_count": 25
        }
      ]
    },
    {
      "cell_type": "markdown",
      "source": [
        "The numpy.arange() function is a core function within the NumPy library in Python, used for creating arrays with evenly spaced values within a defined interval, numpy.arange([start, ]stop, [step, ]dtype=None)\n",
        "\n",
        "start\n",
        "(optional): The beginning of the interval (inclusive). Defaults to 0 if not provided.\n",
        "stop:\n",
        "The end of the interval (exclusive). The generated array will contain values up to, but not including, this value.\n",
        "step\n",
        "(optional): The spacing between values. Defaults to 1 if not provided. Can be negative for descending sequences.\n"
      ],
      "metadata": {
        "id": "nWzNDeV5bX05"
      }
    },
    {
      "cell_type": "code",
      "source": [
        "# Convert a numpy array to a tensor \"A\"\n",
        "A = tf.constant(numpy_A)             # without modified shape\n",
        "B = tf.constant(numpy_A, shape = (2,3,4))   # with modified shape\n",
        "C = tf.constant(numpy_A, shape = (3,8))\n",
        "A, B, C"
      ],
      "metadata": {
        "colab": {
          "base_uri": "https://localhost:8080/"
        },
        "id": "zIoainBkncLJ",
        "outputId": "88709a11-c7f9-49d9-e936-e718554349cd"
      },
      "execution_count": 26,
      "outputs": [
        {
          "output_type": "execute_result",
          "data": {
            "text/plain": [
              "(<tf.Tensor: shape=(24,), dtype=int32, numpy=\n",
              " array([ 1,  2,  3,  4,  5,  6,  7,  8,  9, 10, 11, 12, 13, 14, 15, 16, 17,\n",
              "        18, 19, 20, 21, 22, 23, 24], dtype=int32)>,\n",
              " <tf.Tensor: shape=(2, 3, 4), dtype=int32, numpy=\n",
              " array([[[ 1,  2,  3,  4],\n",
              "         [ 5,  6,  7,  8],\n",
              "         [ 9, 10, 11, 12]],\n",
              " \n",
              "        [[13, 14, 15, 16],\n",
              "         [17, 18, 19, 20],\n",
              "         [21, 22, 23, 24]]], dtype=int32)>,\n",
              " <tf.Tensor: shape=(3, 8), dtype=int32, numpy=\n",
              " array([[ 1,  2,  3,  4,  5,  6,  7,  8],\n",
              "        [ 9, 10, 11, 12, 13, 14, 15, 16],\n",
              "        [17, 18, 19, 20, 21, 22, 23, 24]], dtype=int32)>)"
            ]
          },
          "metadata": {},
          "execution_count": 26
        }
      ]
    },
    {
      "cell_type": "code",
      "source": [
        "# Checking number of dimensions\n",
        "A.ndim, B.ndim, C.ndim"
      ],
      "metadata": {
        "colab": {
          "base_uri": "https://localhost:8080/"
        },
        "id": "pJO5J27GsfWp",
        "outputId": "05ac3306-0723-4e1a-f15e-ab49689f0b31"
      },
      "execution_count": 27,
      "outputs": [
        {
          "output_type": "execute_result",
          "data": {
            "text/plain": [
              "(1, 3, 2)"
            ]
          },
          "metadata": {},
          "execution_count": 27
        }
      ]
    },
    {
      "cell_type": "markdown",
      "source": [
        "The difference between tensor and a numpy array is that tensor can be run on a GPU while storing the same information as array"
      ],
      "metadata": {
        "id": "aP9HQXATdOTJ"
      }
    },
    {
      "cell_type": "markdown",
      "source": [
        "### Getting information form tensors\n",
        "When dealing with tensor, we probably want to be aware of the following attributes:\n",
        "* Shape - tensor.shape\n",
        "* Rank - tensor.ndim\n",
        "* Axes or dimension - tensor[0], tensor[ :1]\n",
        "* Size - tf.size(tensor)"
      ],
      "metadata": {
        "id": "L5H3-EwosIzs"
      }
    },
    {
      "cell_type": "code",
      "source": [
        "# create a rank 4 tensor(4 dimensions)\n",
        "rank_4_tensor = tf.zeros(shape=(2,3,4,5))\n",
        "rank_4_tensor"
      ],
      "metadata": {
        "colab": {
          "base_uri": "https://localhost:8080/"
        },
        "id": "_QKzw3tofKE7",
        "outputId": "620fed12-5ed4-4925-ab81-2abe65447d76"
      },
      "execution_count": 28,
      "outputs": [
        {
          "output_type": "execute_result",
          "data": {
            "text/plain": [
              "<tf.Tensor: shape=(2, 3, 4, 5), dtype=float32, numpy=\n",
              "array([[[[0., 0., 0., 0., 0.],\n",
              "         [0., 0., 0., 0., 0.],\n",
              "         [0., 0., 0., 0., 0.],\n",
              "         [0., 0., 0., 0., 0.]],\n",
              "\n",
              "        [[0., 0., 0., 0., 0.],\n",
              "         [0., 0., 0., 0., 0.],\n",
              "         [0., 0., 0., 0., 0.],\n",
              "         [0., 0., 0., 0., 0.]],\n",
              "\n",
              "        [[0., 0., 0., 0., 0.],\n",
              "         [0., 0., 0., 0., 0.],\n",
              "         [0., 0., 0., 0., 0.],\n",
              "         [0., 0., 0., 0., 0.]]],\n",
              "\n",
              "\n",
              "       [[[0., 0., 0., 0., 0.],\n",
              "         [0., 0., 0., 0., 0.],\n",
              "         [0., 0., 0., 0., 0.],\n",
              "         [0., 0., 0., 0., 0.]],\n",
              "\n",
              "        [[0., 0., 0., 0., 0.],\n",
              "         [0., 0., 0., 0., 0.],\n",
              "         [0., 0., 0., 0., 0.],\n",
              "         [0., 0., 0., 0., 0.]],\n",
              "\n",
              "        [[0., 0., 0., 0., 0.],\n",
              "         [0., 0., 0., 0., 0.],\n",
              "         [0., 0., 0., 0., 0.],\n",
              "         [0., 0., 0., 0., 0.]]]], dtype=float32)>"
            ]
          },
          "metadata": {},
          "execution_count": 28
        }
      ]
    },
    {
      "cell_type": "code",
      "source": [
        "rank_4_tensor[0]"
      ],
      "metadata": {
        "colab": {
          "base_uri": "https://localhost:8080/"
        },
        "id": "jrce_2s_gZ60",
        "outputId": "a11dc4b6-dc5d-46e1-bd81-fdf163130937"
      },
      "execution_count": 29,
      "outputs": [
        {
          "output_type": "execute_result",
          "data": {
            "text/plain": [
              "<tf.Tensor: shape=(3, 4, 5), dtype=float32, numpy=\n",
              "array([[[0., 0., 0., 0., 0.],\n",
              "        [0., 0., 0., 0., 0.],\n",
              "        [0., 0., 0., 0., 0.],\n",
              "        [0., 0., 0., 0., 0.]],\n",
              "\n",
              "       [[0., 0., 0., 0., 0.],\n",
              "        [0., 0., 0., 0., 0.],\n",
              "        [0., 0., 0., 0., 0.],\n",
              "        [0., 0., 0., 0., 0.]],\n",
              "\n",
              "       [[0., 0., 0., 0., 0.],\n",
              "        [0., 0., 0., 0., 0.],\n",
              "        [0., 0., 0., 0., 0.],\n",
              "        [0., 0., 0., 0., 0.]]], dtype=float32)>"
            ]
          },
          "metadata": {},
          "execution_count": 29
        }
      ]
    },
    {
      "cell_type": "code",
      "source": [
        "rank_4_tensor.shape, rank_4_tensor.ndim, tf.size(rank_4_tensor)"
      ],
      "metadata": {
        "colab": {
          "base_uri": "https://localhost:8080/"
        },
        "id": "3Eb2G1DRhc39",
        "outputId": "cdfe4721-636d-4575-caca-b694b013e8fd"
      },
      "execution_count": 30,
      "outputs": [
        {
          "output_type": "execute_result",
          "data": {
            "text/plain": [
              "(TensorShape([2, 3, 4, 5]), 4, <tf.Tensor: shape=(), dtype=int32, numpy=120>)"
            ]
          },
          "metadata": {},
          "execution_count": 30
        }
      ]
    },
    {
      "cell_type": "code",
      "source": [
        "2 * 3 * 4 * 5"
      ],
      "metadata": {
        "colab": {
          "base_uri": "https://localhost:8080/"
        },
        "id": "s6rgOxuuh5iM",
        "outputId": "735e4c2a-f0c1-4808-dc2c-15498fbfaafb"
      },
      "execution_count": 31,
      "outputs": [
        {
          "output_type": "execute_result",
          "data": {
            "text/plain": [
              "120"
            ]
          },
          "metadata": {},
          "execution_count": 31
        }
      ]
    },
    {
      "cell_type": "code",
      "source": [
        "# Get various attribute of the tensor\n",
        "print(\"Datatype of every element:\", rank_4_tensor.dtype)\n",
        "print(\"Number of dimension (rank):\", rank_4_tensor.ndim)\n",
        "print(\"Shape of tensor:\", rank_4_tensor.shape)\n",
        "print(\"Element along 0-axis:\", rank_4_tensor.shape[0])\n",
        "print(\"Element along the last axis:\", rank_4_tensor.shape[-1])\n",
        "print(\"Total number of element in the tensor:\", tf.size(rank_4_tensor))\n",
        "print(\"Total number of element in the tensor:\", tf.size(rank_4_tensor).numpy())"
      ],
      "metadata": {
        "colab": {
          "base_uri": "https://localhost:8080/"
        },
        "id": "5h6FIkqZiMun",
        "outputId": "02b2dc85-f434-4031-a99c-42c30e84ec69"
      },
      "execution_count": 32,
      "outputs": [
        {
          "output_type": "stream",
          "name": "stdout",
          "text": [
            "Datatype of every element: <dtype: 'float32'>\n",
            "Number of dimension (rank): 4\n",
            "Shape of tensor: (2, 3, 4, 5)\n",
            "Element along 0-axis: 2\n",
            "Element along the last axis: 5\n",
            "Total number of element in the tensor: tf.Tensor(120, shape=(), dtype=int32)\n",
            "Total number of element in the tensor: 120\n"
          ]
        }
      ]
    },
    {
      "cell_type": "markdown",
      "source": [
        "### Indexing tensors\n",
        "Tensors can be indexed just like python list\n",
        "* The main difference is that TensorFlow supports true multi-axis slicing in a single expression, which standard Python lists do not.\n",
        "\n",
        "\n",
        "* Foe example, the slicing syntax [dim1, dim2, dim3, dim4] is used to access elements in a 4D tensor. (sliciing is performed on each dimension)\n",
        "\n",
        "* While the basic slicing concept is shared, TensorFlow's slicing is built for high-performance, multi-dimensional data manipulation and is far more capable than Python's native list slicing."
      ],
      "metadata": {
        "id": "4tyTNXKFkFTX"
      }
    },
    {
      "cell_type": "code",
      "source": [
        "some_list = [1,2,3,4]\n",
        "some_list[:2]"
      ],
      "metadata": {
        "colab": {
          "base_uri": "https://localhost:8080/"
        },
        "id": "0USmgtSqrnYw",
        "outputId": "13d9458b-0c3a-4d84-cb7b-c6a5d9d44de7"
      },
      "execution_count": 33,
      "outputs": [
        {
          "output_type": "execute_result",
          "data": {
            "text/plain": [
              "[1, 2]"
            ]
          },
          "metadata": {},
          "execution_count": 33
        }
      ]
    },
    {
      "cell_type": "code",
      "source": [
        "# Get the first 2 elements of each dimensions\n",
        "rank_4_tensor[0]\n",
        "rank_4_tensor[:2,:2,:2,:2]"
      ],
      "metadata": {
        "colab": {
          "base_uri": "https://localhost:8080/"
        },
        "id": "ikKi-VjJqNkx",
        "outputId": "5d724a07-8016-497d-f3c7-0ef1ca696545"
      },
      "execution_count": 34,
      "outputs": [
        {
          "output_type": "execute_result",
          "data": {
            "text/plain": [
              "<tf.Tensor: shape=(2, 2, 2, 2), dtype=float32, numpy=\n",
              "array([[[[0., 0.],\n",
              "         [0., 0.]],\n",
              "\n",
              "        [[0., 0.],\n",
              "         [0., 0.]]],\n",
              "\n",
              "\n",
              "       [[[0., 0.],\n",
              "         [0., 0.]],\n",
              "\n",
              "        [[0., 0.],\n",
              "         [0., 0.]]]], dtype=float32)>"
            ]
          },
          "metadata": {},
          "execution_count": 34
        }
      ]
    },
    {
      "cell_type": "code",
      "source": [
        "# Get the first element of each dimension form each index except for the final one\n",
        "rank_4_tensor[:1,:1,:1,:]"
      ],
      "metadata": {
        "colab": {
          "base_uri": "https://localhost:8080/"
        },
        "id": "QDf3nr_X0zmR",
        "outputId": "a9723aec-2317-4c69-e59e-99f020b5e66b"
      },
      "execution_count": 35,
      "outputs": [
        {
          "output_type": "execute_result",
          "data": {
            "text/plain": [
              "<tf.Tensor: shape=(1, 1, 1, 5), dtype=float32, numpy=array([[[[0., 0., 0., 0., 0.]]]], dtype=float32)>"
            ]
          },
          "metadata": {},
          "execution_count": 35
        }
      ]
    },
    {
      "cell_type": "code",
      "source": [
        "# lets try another\n",
        "rank_4_tensor[:1,:1,:,:1]"
      ],
      "metadata": {
        "colab": {
          "base_uri": "https://localhost:8080/"
        },
        "id": "LzkNFq992Dl8",
        "outputId": "9ade540d-9f5a-424c-e826-daef3daf39c6"
      },
      "execution_count": 36,
      "outputs": [
        {
          "output_type": "execute_result",
          "data": {
            "text/plain": [
              "<tf.Tensor: shape=(1, 1, 4, 1), dtype=float32, numpy=\n",
              "array([[[[0.],\n",
              "         [0.],\n",
              "         [0.],\n",
              "         [0.]]]], dtype=float32)>"
            ]
          },
          "metadata": {},
          "execution_count": 36
        }
      ]
    },
    {
      "cell_type": "code",
      "source": [
        "mytensor = tf.constant([\n",
        "            [[1,2,3],\n",
        "            [4,5,6],\n",
        "            [7,8,9]],\n",
        "            [[10,11,12],\n",
        "            [13,14,15],\n",
        "            [16,17,18]]\n",
        "                ])\n",
        "\n",
        "mytensor[0:2,:,:], mytensor[0:2,0:2,:], mytensor[0:2, 0:2, 0:2]"
      ],
      "metadata": {
        "colab": {
          "base_uri": "https://localhost:8080/"
        },
        "id": "jiy2GzI0rDxj",
        "outputId": "62c2cb6c-9525-4199-a563-3ac72c7add5d"
      },
      "execution_count": 37,
      "outputs": [
        {
          "output_type": "execute_result",
          "data": {
            "text/plain": [
              "(<tf.Tensor: shape=(2, 3, 3), dtype=int32, numpy=\n",
              " array([[[ 1,  2,  3],\n",
              "         [ 4,  5,  6],\n",
              "         [ 7,  8,  9]],\n",
              " \n",
              "        [[10, 11, 12],\n",
              "         [13, 14, 15],\n",
              "         [16, 17, 18]]], dtype=int32)>,\n",
              " <tf.Tensor: shape=(2, 2, 3), dtype=int32, numpy=\n",
              " array([[[ 1,  2,  3],\n",
              "         [ 4,  5,  6]],\n",
              " \n",
              "        [[10, 11, 12],\n",
              "         [13, 14, 15]]], dtype=int32)>,\n",
              " <tf.Tensor: shape=(2, 2, 2), dtype=int32, numpy=\n",
              " array([[[ 1,  2],\n",
              "         [ 4,  5]],\n",
              " \n",
              "        [[10, 11],\n",
              "         [13, 14]]], dtype=int32)>)"
            ]
          },
          "metadata": {},
          "execution_count": 37
        }
      ]
    },
    {
      "cell_type": "code",
      "source": [
        "some_list = [1,2,3,4]\n",
        "some_list[-1]"
      ],
      "metadata": {
        "colab": {
          "base_uri": "https://localhost:8080/"
        },
        "id": "zh2TYBDD3Tj5",
        "outputId": "8083d54d-5174-4912-944f-2d50512dc302"
      },
      "execution_count": 38,
      "outputs": [
        {
          "output_type": "execute_result",
          "data": {
            "text/plain": [
              "4"
            ]
          },
          "metadata": {},
          "execution_count": 38
        }
      ]
    },
    {
      "cell_type": "code",
      "source": [
        "# Create a rank-2 tensor (2 dimensions)\n",
        "rank_2_tensor = tf.constant([[10,7],\n",
        "               [3,4]])\n",
        "rank_2_tensor.shape, rank_2_tensor.ndim"
      ],
      "metadata": {
        "colab": {
          "base_uri": "https://localhost:8080/"
        },
        "id": "UKpvxvFsuyBu",
        "outputId": "77e5c30d-fc0e-4f17-e34d-36f26196a1c2"
      },
      "execution_count": 39,
      "outputs": [
        {
          "output_type": "execute_result",
          "data": {
            "text/plain": [
              "(TensorShape([2, 2]), 2)"
            ]
          },
          "metadata": {},
          "execution_count": 39
        }
      ]
    },
    {
      "cell_type": "code",
      "source": [
        "# Get the last item of each row of our rank 2 tensor\n",
        "rank_2_tensor[:-1]"
      ],
      "metadata": {
        "id": "havzRXiw2sMj",
        "colab": {
          "base_uri": "https://localhost:8080/"
        },
        "outputId": "402c2f9f-87d5-4158-bcd0-af98a6691675"
      },
      "execution_count": 40,
      "outputs": [
        {
          "output_type": "execute_result",
          "data": {
            "text/plain": [
              "<tf.Tensor: shape=(1, 2), dtype=int32, numpy=array([[10,  7]], dtype=int32)>"
            ]
          },
          "metadata": {},
          "execution_count": 40
        }
      ]
    },
    {
      "cell_type": "code",
      "source": [
        "# Add in extra dimension to our rank 2 tensor\n",
        "rank_3_tensor = rank_2_tensor[...,tf.newaxis]    # same as rank_2_tensor[:,:,tf.newaxix]\n",
        "rank_3_tensor"
      ],
      "metadata": {
        "colab": {
          "base_uri": "https://localhost:8080/"
        },
        "id": "0efAgNWM0M1R",
        "outputId": "51400675-ae0a-485e-a160-9d6f099528a3"
      },
      "execution_count": 41,
      "outputs": [
        {
          "output_type": "execute_result",
          "data": {
            "text/plain": [
              "<tf.Tensor: shape=(2, 2, 1), dtype=int32, numpy=\n",
              "array([[[10],\n",
              "        [ 7]],\n",
              "\n",
              "       [[ 3],\n",
              "        [ 4]]], dtype=int32)>"
            ]
          },
          "metadata": {},
          "execution_count": 41
        }
      ]
    },
    {
      "cell_type": "code",
      "source": [
        "# Alternative to tf.newaxix\n",
        "tf.expand_dims(rank_2_tensor, axis=-1)    # -1 means expand the final axis"
      ],
      "metadata": {
        "colab": {
          "base_uri": "https://localhost:8080/"
        },
        "id": "VtT8-s5f0oKT",
        "outputId": "f02452b2-3ec9-427c-c12f-9303ccf83648"
      },
      "execution_count": 42,
      "outputs": [
        {
          "output_type": "execute_result",
          "data": {
            "text/plain": [
              "<tf.Tensor: shape=(2, 2, 1), dtype=int32, numpy=\n",
              "array([[[10],\n",
              "        [ 7]],\n",
              "\n",
              "       [[ 3],\n",
              "        [ 4]]], dtype=int32)>"
            ]
          },
          "metadata": {},
          "execution_count": 42
        }
      ]
    },
    {
      "cell_type": "markdown",
      "source": [
        " In TensorFlow, an axis refers to a specific dimension of a tensor. You can think of it as an index that specifies which dimension of the tensor you want to operate on. The axes are numbered starting from 0."
      ],
      "metadata": {
        "id": "Zc7wbZLO1jnX"
      }
    },
    {
      "cell_type": "markdown",
      "source": [
        "tf.expand_dims(): https://www.tensorflow.org/api_docs/python/tf/expand_dims"
      ],
      "metadata": {
        "id": "i2KrdF2Y2jxZ"
      }
    },
    {
      "cell_type": "code",
      "source": [
        "tf.expand_dims(rank_2_tensor, axis = 0)   # expand the 0--axis"
      ],
      "metadata": {
        "colab": {
          "base_uri": "https://localhost:8080/"
        },
        "id": "tqyBf0I_18Jh",
        "outputId": "36d2bd4b-0475-4abe-e0e1-1495ddaa33e3"
      },
      "execution_count": 43,
      "outputs": [
        {
          "output_type": "execute_result",
          "data": {
            "text/plain": [
              "<tf.Tensor: shape=(1, 2, 2), dtype=int32, numpy=\n",
              "array([[[10,  7],\n",
              "        [ 3,  4]]], dtype=int32)>"
            ]
          },
          "metadata": {},
          "execution_count": 43
        }
      ]
    },
    {
      "cell_type": "code",
      "source": [
        "tf.expand_dims(rank_2_tensor, axis = 1)   # expand the 1--axis"
      ],
      "metadata": {
        "colab": {
          "base_uri": "https://localhost:8080/"
        },
        "id": "hhlpb9lT2xQY",
        "outputId": "e2a4f650-c00b-49b1-993c-2f6ca0ab55f7"
      },
      "execution_count": 44,
      "outputs": [
        {
          "output_type": "execute_result",
          "data": {
            "text/plain": [
              "<tf.Tensor: shape=(2, 1, 2), dtype=int32, numpy=\n",
              "array([[[10,  7]],\n",
              "\n",
              "       [[ 3,  4]]], dtype=int32)>"
            ]
          },
          "metadata": {},
          "execution_count": 44
        }
      ]
    },
    {
      "cell_type": "markdown",
      "source": [
        "When expanding a tensor, the original number in the tensor remains the same while the dimension changed"
      ],
      "metadata": {
        "id": "Yd-goECg3eC1"
      }
    },
    {
      "cell_type": "markdown",
      "source": [
        "### Manipulatifng tensors (tensor operations)"
      ],
      "metadata": {
        "id": "zKCHEIN83O8S"
      }
    },
    {
      "cell_type": "markdown",
      "source": [
        "**Basic operations**\n",
        "\n",
        "'+', '-', '*', '/'"
      ],
      "metadata": {
        "id": "itNah3N13_t_"
      }
    },
    {
      "cell_type": "code",
      "source": [
        "# Yoou can add value to a tensor using addition oeprator\n",
        "tensor = tf.constant([[10,7], [3,4]])\n",
        "tensor+10\n",
        "\n",
        "# [[10, 7], [3, 4]] + 10 is treated as: [[10, 7], [3, 4]] + [[10, 10], [10, 10]]"
      ],
      "metadata": {
        "colab": {
          "base_uri": "https://localhost:8080/"
        },
        "id": "pMzfFNW43u0t",
        "outputId": "45839aaa-cbe0-4210-c0b2-94d26ed8331c"
      },
      "execution_count": 45,
      "outputs": [
        {
          "output_type": "execute_result",
          "data": {
            "text/plain": [
              "<tf.Tensor: shape=(2, 2), dtype=int32, numpy=\n",
              "array([[20, 17],\n",
              "       [13, 14]], dtype=int32)>"
            ]
          },
          "metadata": {},
          "execution_count": 45
        }
      ]
    },
    {
      "cell_type": "code",
      "source": [
        "# original tensor is unchanged after addition\n",
        "tensor"
      ],
      "metadata": {
        "colab": {
          "base_uri": "https://localhost:8080/"
        },
        "id": "Wbv9vexu4mTi",
        "outputId": "1973d6bc-42e4-484a-9d18-e6af3534876f"
      },
      "execution_count": 46,
      "outputs": [
        {
          "output_type": "execute_result",
          "data": {
            "text/plain": [
              "<tf.Tensor: shape=(2, 2), dtype=int32, numpy=\n",
              "array([[10,  7],\n",
              "       [ 3,  4]], dtype=int32)>"
            ]
          },
          "metadata": {},
          "execution_count": 46
        }
      ]
    },
    {
      "cell_type": "code",
      "source": [
        "# unless we reset it\n",
        "tensor = tensor + 10\n",
        "tensor"
      ],
      "metadata": {
        "colab": {
          "base_uri": "https://localhost:8080/"
        },
        "id": "avLZ9vCW7_A9",
        "outputId": "1a4817fe-6e94-4531-8803-7f851df93683"
      },
      "execution_count": 47,
      "outputs": [
        {
          "output_type": "execute_result",
          "data": {
            "text/plain": [
              "<tf.Tensor: shape=(2, 2), dtype=int32, numpy=\n",
              "array([[20, 17],\n",
              "       [13, 14]], dtype=int32)>"
            ]
          },
          "metadata": {},
          "execution_count": 47
        }
      ]
    },
    {
      "cell_type": "code",
      "source": [
        "# Multiplication also works\n",
        "tensor*10"
      ],
      "metadata": {
        "colab": {
          "base_uri": "https://localhost:8080/"
        },
        "id": "4D4w9MSO8Jz0",
        "outputId": "31de0769-b14b-442a-d5dd-13fa7e5dcdbb"
      },
      "execution_count": 48,
      "outputs": [
        {
          "output_type": "execute_result",
          "data": {
            "text/plain": [
              "<tf.Tensor: shape=(2, 2), dtype=int32, numpy=\n",
              "array([[200, 170],\n",
              "       [130, 140]], dtype=int32)>"
            ]
          },
          "metadata": {},
          "execution_count": 48
        }
      ]
    },
    {
      "cell_type": "code",
      "source": [
        "# subtraction\n",
        "tensor-10"
      ],
      "metadata": {
        "colab": {
          "base_uri": "https://localhost:8080/"
        },
        "id": "tOJZfbOK88sl",
        "outputId": "29b46d34-90e0-403e-c394-bb397d9324b0"
      },
      "execution_count": 49,
      "outputs": [
        {
          "output_type": "execute_result",
          "data": {
            "text/plain": [
              "<tf.Tensor: shape=(2, 2), dtype=int32, numpy=\n",
              "array([[10,  7],\n",
              "       [ 3,  4]], dtype=int32)>"
            ]
          },
          "metadata": {},
          "execution_count": 49
        }
      ]
    },
    {
      "cell_type": "code",
      "source": [
        "# We can use the tensorflow's built-in function too\n",
        "tf.multiply(tensor, 10)"
      ],
      "metadata": {
        "colab": {
          "base_uri": "https://localhost:8080/"
        },
        "id": "18lzF98f9EzD",
        "outputId": "9c6ff681-928e-4a71-979f-444c7b01c0b8"
      },
      "execution_count": 50,
      "outputs": [
        {
          "output_type": "execute_result",
          "data": {
            "text/plain": [
              "<tf.Tensor: shape=(2, 2), dtype=int32, numpy=\n",
              "array([[200, 170],\n",
              "       [130, 140]], dtype=int32)>"
            ]
          },
          "metadata": {},
          "execution_count": 50
        }
      ]
    },
    {
      "cell_type": "markdown",
      "source": [
        "If we want the temsor operation to be fast (run on GPU), then we need to use tensorflow's built-in function, tf.function()"
      ],
      "metadata": {
        "id": "sw7H3_me9xw_"
      }
    },
    {
      "cell_type": "code",
      "source": [
        "tf.add(tensor, 100)"
      ],
      "metadata": {
        "colab": {
          "base_uri": "https://localhost:8080/"
        },
        "id": "ruJJomeh9gKw",
        "outputId": "7aa827c9-1e64-49ca-be55-e1119ed418c6"
      },
      "execution_count": 51,
      "outputs": [
        {
          "output_type": "execute_result",
          "data": {
            "text/plain": [
              "<tf.Tensor: shape=(2, 2), dtype=int32, numpy=\n",
              "array([[120, 117],\n",
              "       [113, 114]], dtype=int32)>"
            ]
          },
          "metadata": {},
          "execution_count": 51
        }
      ]
    },
    {
      "cell_type": "markdown",
      "source": [
        "**Matrix Multiplication**\n",
        "\n",
        "In machine learning, tensor multipliccation is one of the most common tensor operations\n",
        "\n",
        "There are two rules our tensors (or matrices) need to fufill if we are going to matrix multiply them\n",
        "\n",
        "1. The inner dimension must match\n",
        "2. The resulting matrix has the shape of outer dimensions\n",
        "\n",
        "(Inner dimensions: are the number of columns of the first matrix and the number of rows of the second matrix, and they must match)"
      ],
      "metadata": {
        "id": "GfdpV-Dr-QXn"
      }
    },
    {
      "cell_type": "code",
      "source": [
        "# Matrix Multiplication in tensorflow\n",
        "tensor = tf.constant([[10,7], [3,4]])\n",
        "tf.matmul(tensor, tensor)"
      ],
      "metadata": {
        "colab": {
          "base_uri": "https://localhost:8080/"
        },
        "id": "SfEMe6Bi-WPS",
        "outputId": "d1f8f3e5-cd34-42e2-9813-10f6f5b82888"
      },
      "execution_count": 52,
      "outputs": [
        {
          "output_type": "execute_result",
          "data": {
            "text/plain": [
              "<tf.Tensor: shape=(2, 2), dtype=int32, numpy=\n",
              "array([[121,  98],\n",
              "       [ 42,  37]], dtype=int32)>"
            ]
          },
          "metadata": {},
          "execution_count": 52
        }
      ]
    },
    {
      "cell_type": "code",
      "source": [
        "# This operation become element wise (not matrix multiplication)\n",
        "tensor*tensor"
      ],
      "metadata": {
        "colab": {
          "base_uri": "https://localhost:8080/"
        },
        "id": "URROrEsiBaey",
        "outputId": "e0f6cec1-e73b-43a5-8693-3422608fa580"
      },
      "execution_count": 53,
      "outputs": [
        {
          "output_type": "execute_result",
          "data": {
            "text/plain": [
              "<tf.Tensor: shape=(2, 2), dtype=int32, numpy=\n",
              "array([[100,  49],\n",
              "       [  9,  16]], dtype=int32)>"
            ]
          },
          "metadata": {},
          "execution_count": 53
        }
      ]
    },
    {
      "cell_type": "code",
      "source": [
        "# Matrix multiplication with python operator \"@\""
      ],
      "metadata": {
        "id": "ET_VyE7SAzeH"
      },
      "execution_count": 54,
      "outputs": []
    },
    {
      "cell_type": "code",
      "source": [
        "tensor @ tensor"
      ],
      "metadata": {
        "colab": {
          "base_uri": "https://localhost:8080/"
        },
        "id": "B4ctTcjEjcDG",
        "outputId": "308abf70-28b4-402f-8271-1e93c39d10cb"
      },
      "execution_count": 55,
      "outputs": [
        {
          "output_type": "execute_result",
          "data": {
            "text/plain": [
              "<tf.Tensor: shape=(2, 2), dtype=int32, numpy=\n",
              "array([[121,  98],\n",
              "       [ 42,  37]], dtype=int32)>"
            ]
          },
          "metadata": {},
          "execution_count": 55
        }
      ]
    },
    {
      "cell_type": "code",
      "source": [
        "tensor_1 = tf.constant([[1,2,5],[7,2,1],[3,3,3]])\n",
        "tensor_2 = tf.constant([[3,5],[6,7],[1,8]])\n",
        "tf.matmul(tensor_1, tensor_2)"
      ],
      "metadata": {
        "colab": {
          "base_uri": "https://localhost:8080/"
        },
        "id": "1XtMAnlHBvbI",
        "outputId": "59953ba4-9778-425c-b499-2113bf4fee60"
      },
      "execution_count": 56,
      "outputs": [
        {
          "output_type": "execute_result",
          "data": {
            "text/plain": [
              "<tf.Tensor: shape=(3, 2), dtype=int32, numpy=\n",
              "array([[20, 59],\n",
              "       [34, 57],\n",
              "       [30, 60]], dtype=int32)>"
            ]
          },
          "metadata": {},
          "execution_count": 56
        }
      ]
    },
    {
      "cell_type": "code",
      "source": [
        "# Create a (3,2) tensor\n",
        "X = tf.constant([[1,2],\n",
        "         [3,4],\n",
        "         [5,6]])\n",
        "# Create another (3,2) tensor\n",
        "Y = tf.constant([[7,8],\n",
        "         [9,10],\n",
        "         [11,12]])\n",
        "X, Y"
      ],
      "metadata": {
        "id": "Houuz9hQCMCz",
        "colab": {
          "base_uri": "https://localhost:8080/"
        },
        "outputId": "d2fdb6ec-7e89-4d9b-f4f3-f91247aa57b7"
      },
      "execution_count": 57,
      "outputs": [
        {
          "output_type": "execute_result",
          "data": {
            "text/plain": [
              "(<tf.Tensor: shape=(3, 2), dtype=int32, numpy=\n",
              " array([[1, 2],\n",
              "        [3, 4],\n",
              "        [5, 6]], dtype=int32)>,\n",
              " <tf.Tensor: shape=(3, 2), dtype=int32, numpy=\n",
              " array([[ 7,  8],\n",
              "        [ 9, 10],\n",
              "        [11, 12]], dtype=int32)>)"
            ]
          },
          "metadata": {},
          "execution_count": 57
        }
      ]
    },
    {
      "cell_type": "code",
      "source": [
        "# Try to matrix m7ultiplication with tensors of same shape\n",
        "# tf.matmul(X, Y)   # Matrix size-incompatible"
      ],
      "metadata": {
        "id": "oWqd2-PyoazM"
      },
      "execution_count": 58,
      "outputs": []
    },
    {
      "cell_type": "code",
      "source": [
        "X.shape, tf.reshape(Y, shape = (2,3)).shape"
      ],
      "metadata": {
        "colab": {
          "base_uri": "https://localhost:8080/"
        },
        "id": "-pQnacL7tDLh",
        "outputId": "5ce2ca3e-b805-48fb-e638-c8e0cf7bdcdb"
      },
      "execution_count": 59,
      "outputs": [
        {
          "output_type": "execute_result",
          "data": {
            "text/plain": [
              "(TensorShape([3, 2]), TensorShape([2, 3]))"
            ]
          },
          "metadata": {},
          "execution_count": 59
        }
      ]
    },
    {
      "cell_type": "code",
      "source": [
        "# Let's change the shape of y\n",
        "Y, tf.reshape(Y, shape = (2,3))"
      ],
      "metadata": {
        "colab": {
          "base_uri": "https://localhost:8080/"
        },
        "id": "-i8s5DO1ojg0",
        "outputId": "b2333ec6-db20-4965-b2e8-78cfee554b09"
      },
      "execution_count": 60,
      "outputs": [
        {
          "output_type": "execute_result",
          "data": {
            "text/plain": [
              "(<tf.Tensor: shape=(3, 2), dtype=int32, numpy=\n",
              " array([[ 7,  8],\n",
              "        [ 9, 10],\n",
              "        [11, 12]], dtype=int32)>,\n",
              " <tf.Tensor: shape=(2, 3), dtype=int32, numpy=\n",
              " array([[ 7,  8,  9],\n",
              "        [10, 11, 12]], dtype=int32)>)"
            ]
          },
          "metadata": {},
          "execution_count": 60
        }
      ]
    },
    {
      "cell_type": "code",
      "source": [
        "# Try to multiply X by reshaped Y\n",
        "tf.matmul(X, tf.reshape(Y, shape = (2,3)))"
      ],
      "metadata": {
        "colab": {
          "base_uri": "https://localhost:8080/"
        },
        "id": "ydlV6tXRsn-M",
        "outputId": "a3b03d57-441c-493b-fa01-5d0b2f5d5eec"
      },
      "execution_count": 61,
      "outputs": [
        {
          "output_type": "execute_result",
          "data": {
            "text/plain": [
              "<tf.Tensor: shape=(3, 3), dtype=int32, numpy=\n",
              "array([[ 27,  30,  33],\n",
              "       [ 61,  68,  75],\n",
              "       [ 95, 106, 117]], dtype=int32)>"
            ]
          },
          "metadata": {},
          "execution_count": 61
        }
      ]
    },
    {
      "cell_type": "code",
      "source": [
        "# Try change the shape of X instead of Y\n",
        "tf.reshape(X, shape = (2,3)).shape, Y.shape"
      ],
      "metadata": {
        "colab": {
          "base_uri": "https://localhost:8080/"
        },
        "id": "i6Ag7W_Dtqtl",
        "outputId": "81f52dd4-28d4-4198-9a6b-78d052d7aa25"
      },
      "execution_count": 62,
      "outputs": [
        {
          "output_type": "execute_result",
          "data": {
            "text/plain": [
              "(TensorShape([2, 3]), TensorShape([3, 2]))"
            ]
          },
          "metadata": {},
          "execution_count": 62
        }
      ]
    },
    {
      "cell_type": "code",
      "source": [
        "tf.matmul(tf.reshape(X, shape = (2,3)), Y)"
      ],
      "metadata": {
        "colab": {
          "base_uri": "https://localhost:8080/"
        },
        "id": "_vm4hjB-t8_k",
        "outputId": "8d4e7823-3801-4aad-ceeb-3fc2b084e1c7"
      },
      "execution_count": 63,
      "outputs": [
        {
          "output_type": "execute_result",
          "data": {
            "text/plain": [
              "<tf.Tensor: shape=(2, 2), dtype=int32, numpy=\n",
              "array([[ 58,  64],\n",
              "       [139, 154]], dtype=int32)>"
            ]
          },
          "metadata": {},
          "execution_count": 63
        }
      ]
    },
    {
      "cell_type": "code",
      "source": [
        "# Can do the same with transpose\n",
        "X, tf.transpose(X), tf.reshape(X, shape = (2,3))\n",
        "\n",
        "# the effect of transpose is different from reshape\n",
        "# transpose change the column and row\n",
        "# reshape do not change the relative position of the element"
      ],
      "metadata": {
        "colab": {
          "base_uri": "https://localhost:8080/"
        },
        "id": "ceJ5vEaSud1r",
        "outputId": "e0d36737-241c-4497-c67c-7e0bd3386528"
      },
      "execution_count": 64,
      "outputs": [
        {
          "output_type": "execute_result",
          "data": {
            "text/plain": [
              "(<tf.Tensor: shape=(3, 2), dtype=int32, numpy=\n",
              " array([[1, 2],\n",
              "        [3, 4],\n",
              "        [5, 6]], dtype=int32)>,\n",
              " <tf.Tensor: shape=(2, 3), dtype=int32, numpy=\n",
              " array([[1, 3, 5],\n",
              "        [2, 4, 6]], dtype=int32)>,\n",
              " <tf.Tensor: shape=(2, 3), dtype=int32, numpy=\n",
              " array([[1, 2, 3],\n",
              "        [4, 5, 6]], dtype=int32)>)"
            ]
          },
          "metadata": {},
          "execution_count": 64
        }
      ]
    },
    {
      "cell_type": "code",
      "source": [
        "# Try matrix multiplication with tranpose rather than reshape\n",
        "tf.matmul(tf.transpose(X), Y)"
      ],
      "metadata": {
        "colab": {
          "base_uri": "https://localhost:8080/"
        },
        "id": "Pe8aO8OjvVx4",
        "outputId": "9cbae450-8b82-498f-e9ac-669fe6add68a"
      },
      "execution_count": 65,
      "outputs": [
        {
          "output_type": "execute_result",
          "data": {
            "text/plain": [
              "<tf.Tensor: shape=(2, 2), dtype=int32, numpy=\n",
              "array([[ 89,  98],\n",
              "       [116, 128]], dtype=int32)>"
            ]
          },
          "metadata": {},
          "execution_count": 65
        }
      ]
    },
    {
      "cell_type": "markdown",
      "source": [
        "Resource: info and example of matrix multiplication: https://www.mathsisfun.com/algebra/matrix-multiplying.html"
      ],
      "metadata": {
        "id": "YtkN7uEbpPGP"
      }
    },
    {
      "cell_type": "markdown",
      "source": [
        "**The dot product**\n",
        "\n",
        "Matrix multiplication is also referred to as the dot product\n",
        "\n",
        "You can perform matrix multiplication using:\n",
        "* tf.matmul(): https://www.tensorflow.org/api_docs/python/tf/linalg/matmul\n",
        "* tf.tensordot(): https://www.tensorflow.org/api_docs/python/tf/tensordot"
      ],
      "metadata": {
        "id": "2XO4gxplsUpL"
      }
    },
    {
      "cell_type": "code",
      "source": [
        "X, Y"
      ],
      "metadata": {
        "colab": {
          "base_uri": "https://localhost:8080/"
        },
        "id": "kHnS2_A9xFfo",
        "outputId": "99162ed6-1832-4d88-ddcc-49c5c22d53a8"
      },
      "execution_count": 66,
      "outputs": [
        {
          "output_type": "execute_result",
          "data": {
            "text/plain": [
              "(<tf.Tensor: shape=(3, 2), dtype=int32, numpy=\n",
              " array([[1, 2],\n",
              "        [3, 4],\n",
              "        [5, 6]], dtype=int32)>,\n",
              " <tf.Tensor: shape=(3, 2), dtype=int32, numpy=\n",
              " array([[ 7,  8],\n",
              "        [ 9, 10],\n",
              "        [11, 12]], dtype=int32)>)"
            ]
          },
          "metadata": {},
          "execution_count": 66
        }
      ]
    },
    {
      "cell_type": "code",
      "source": [
        "# Perform matrix multiplication on X and Y (require X or Y to be transposed)\n",
        "tf.tensordot(tf.transpose(X), Y, axes = 1)"
      ],
      "metadata": {
        "colab": {
          "base_uri": "https://localhost:8080/"
        },
        "id": "1CmPaUL3wHA0",
        "outputId": "52dc912d-15be-4e92-dd57-61d69483a329"
      },
      "execution_count": 67,
      "outputs": [
        {
          "output_type": "execute_result",
          "data": {
            "text/plain": [
              "<tf.Tensor: shape=(2, 2), dtype=int32, numpy=\n",
              "array([[ 89,  98],\n",
              "       [116, 128]], dtype=int32)>"
            ]
          },
          "metadata": {},
          "execution_count": 67
        }
      ]
    },
    {
      "cell_type": "code",
      "source": [
        "# Perform matrix multiplication between X and Y (transposed)\n",
        "tf.matmul(X, tf.transpose(Y))"
      ],
      "metadata": {
        "colab": {
          "base_uri": "https://localhost:8080/"
        },
        "id": "Eatyqr_gxOcx",
        "outputId": "251346e4-b592-44d0-ba2b-11baf91d2cdc"
      },
      "execution_count": 68,
      "outputs": [
        {
          "output_type": "execute_result",
          "data": {
            "text/plain": [
              "<tf.Tensor: shape=(3, 3), dtype=int32, numpy=\n",
              "array([[ 23,  29,  35],\n",
              "       [ 53,  67,  81],\n",
              "       [ 83, 105, 127]], dtype=int32)>"
            ]
          },
          "metadata": {},
          "execution_count": 68
        }
      ]
    },
    {
      "cell_type": "code",
      "source": [
        "# Perform martix multiplication between X and Y (reshaped)\n",
        "tf.matmul(X, tf.reshape(Y, shape = (2,3)))"
      ],
      "metadata": {
        "colab": {
          "base_uri": "https://localhost:8080/"
        },
        "id": "dYEZtmYkzGJD",
        "outputId": "99a47694-aaaf-4da7-9997-3828cfcd7215"
      },
      "execution_count": 69,
      "outputs": [
        {
          "output_type": "execute_result",
          "data": {
            "text/plain": [
              "<tf.Tensor: shape=(3, 3), dtype=int32, numpy=\n",
              "array([[ 27,  30,  33],\n",
              "       [ 61,  68,  75],\n",
              "       [ 95, 106, 117]], dtype=int32)>"
            ]
          },
          "metadata": {},
          "execution_count": 69
        }
      ]
    },
    {
      "cell_type": "code",
      "source": [
        "# Check the value of Y, reshape Y and transposed Y\n",
        "print(\"Normal Y:\")\n",
        "print(Y, \"\\n\")\n",
        "print(\"Reshaped Y:\")\n",
        "print(tf.reshape(Y, shape = (2,3)), \"\\n\")\n",
        "print(\"Transposed Y:\")\n",
        "print(tf.transpose(Y))"
      ],
      "metadata": {
        "colab": {
          "base_uri": "https://localhost:8080/"
        },
        "id": "jXuBqdV-zOE9",
        "outputId": "edbc57b2-2199-4660-c9d8-0d8901817338"
      },
      "execution_count": 70,
      "outputs": [
        {
          "output_type": "stream",
          "name": "stdout",
          "text": [
            "Normal Y:\n",
            "tf.Tensor(\n",
            "[[ 7  8]\n",
            " [ 9 10]\n",
            " [11 12]], shape=(3, 2), dtype=int32) \n",
            "\n",
            "Reshaped Y:\n",
            "tf.Tensor(\n",
            "[[ 7  8  9]\n",
            " [10 11 12]], shape=(2, 3), dtype=int32) \n",
            "\n",
            "Transposed Y:\n",
            "tf.Tensor(\n",
            "[[ 7  9 11]\n",
            " [ 8 10 12]], shape=(2, 3), dtype=int32)\n"
          ]
        }
      ]
    },
    {
      "cell_type": "markdown",
      "source": [
        "Generally, when performing matrix multiplication on two tensors and one of the axes is not lined up, you willl transpose rather than reshape one of the tensors to satisfy matrix multiplication rules"
      ],
      "metadata": {
        "id": "O7GI2pDOz7m8"
      }
    },
    {
      "cell_type": "markdown",
      "source": [
        "### Change the datatype of a tensor"
      ],
      "metadata": {
        "id": "JgcOfVGn1OpT"
      }
    },
    {
      "cell_type": "markdown",
      "source": [
        "**tf.cast(tensor, dtype = dtype))**\n",
        "\n",
        "**resources**: https://www.tensorflow.org/api_docs/python/tf/tensordot"
      ],
      "metadata": {
        "id": "ITuj-Vc43EMV"
      }
    },
    {
      "cell_type": "code",
      "source": [
        "tf.__version__"
      ],
      "metadata": {
        "colab": {
          "base_uri": "https://localhost:8080/",
          "height": 36
        },
        "id": "4TV3PwXl2UAc",
        "outputId": "c57fe07a-93c8-4613-bc1f-70bb7e531ff7"
      },
      "execution_count": 71,
      "outputs": [
        {
          "output_type": "execute_result",
          "data": {
            "text/plain": [
              "'2.18.0'"
            ],
            "application/vnd.google.colaboratory.intrinsic+json": {
              "type": "string"
            }
          },
          "metadata": {},
          "execution_count": 71
        }
      ]
    },
    {
      "cell_type": "code",
      "source": [
        "# Create a new tensor with default datatype (float32)\n",
        "B = tf.constant([1.7, 7.4])\n",
        "B.dtype"
      ],
      "metadata": {
        "colab": {
          "base_uri": "https://localhost:8080/"
        },
        "id": "RDk5H3fn1uTZ",
        "outputId": "193e8ed2-4621-4231-cff0-a727c204546c"
      },
      "execution_count": 72,
      "outputs": [
        {
          "output_type": "execute_result",
          "data": {
            "text/plain": [
              "tf.float32"
            ]
          },
          "metadata": {},
          "execution_count": 72
        }
      ]
    },
    {
      "cell_type": "code",
      "source": [
        "C = tf.constant([7,10])\n",
        "C.dtype"
      ],
      "metadata": {
        "colab": {
          "base_uri": "https://localhost:8080/"
        },
        "id": "9j2kRZSH17rw",
        "outputId": "c3e6bcd2-214e-4c61-e428-40d78951a06e"
      },
      "execution_count": 73,
      "outputs": [
        {
          "output_type": "execute_result",
          "data": {
            "text/plain": [
              "tf.int32"
            ]
          },
          "metadata": {},
          "execution_count": 73
        }
      ]
    },
    {
      "cell_type": "code",
      "source": [
        "# Change from float32 to float16 (reduced precision with less memory, run faster)\n",
        "D = tf.cast(B, dtype = tf.float16)\n",
        "D.dtype, B.dtype"
      ],
      "metadata": {
        "colab": {
          "base_uri": "https://localhost:8080/"
        },
        "id": "a6BUnIwT2O0K",
        "outputId": "1ea862f8-ee9c-4954-fdb2-70f1885d8969"
      },
      "execution_count": 74,
      "outputs": [
        {
          "output_type": "execute_result",
          "data": {
            "text/plain": [
              "(tf.float16, tf.float32)"
            ]
          },
          "metadata": {},
          "execution_count": 74
        }
      ]
    },
    {
      "cell_type": "code",
      "source": [
        "# Change from int32 to float32\n",
        "E = tf.cast(C, dtype = tf.float32)\n",
        "E.dtype"
      ],
      "metadata": {
        "colab": {
          "base_uri": "https://localhost:8080/"
        },
        "id": "e45_65FA2qAG",
        "outputId": "e13807bb-a1ca-49bc-bbdf-e615341eb052"
      },
      "execution_count": 75,
      "outputs": [
        {
          "output_type": "execute_result",
          "data": {
            "text/plain": [
              "tf.float32"
            ]
          },
          "metadata": {},
          "execution_count": 75
        }
      ]
    },
    {
      "cell_type": "code",
      "source": [
        "E_float16 = tf.cast(E, dtype = tf.float16)\n",
        "E_float16.dtype"
      ],
      "metadata": {
        "colab": {
          "base_uri": "https://localhost:8080/"
        },
        "id": "7H7Tyd824Lug",
        "outputId": "818cbc92-2cdd-41c4-b862-e90ad5a1257d"
      },
      "execution_count": 76,
      "outputs": [
        {
          "output_type": "execute_result",
          "data": {
            "text/plain": [
              "tf.float16"
            ]
          },
          "metadata": {},
          "execution_count": 76
        }
      ]
    },
    {
      "cell_type": "markdown",
      "source": [
        "### Aggregating tensors\n",
        "\n",
        "Aggregating tensors = condensing them from multiple values down to a smaller amount of values"
      ],
      "metadata": {
        "id": "aGLkQDs54kMM"
      }
    },
    {
      "cell_type": "code",
      "source": [
        "D = tf.constant([-7,-10])\n",
        "D"
      ],
      "metadata": {
        "colab": {
          "base_uri": "https://localhost:8080/"
        },
        "id": "bdW0IHaO442m",
        "outputId": "a0e75e75-edcb-4c88-f9c0-56805fa2098b"
      },
      "execution_count": 77,
      "outputs": [
        {
          "output_type": "execute_result",
          "data": {
            "text/plain": [
              "<tf.Tensor: shape=(2,), dtype=int32, numpy=array([ -7, -10], dtype=int32)>"
            ]
          },
          "metadata": {},
          "execution_count": 77
        }
      ]
    },
    {
      "cell_type": "code",
      "source": [
        "# Get the absolute values\n",
        "tf.abs(D)"
      ],
      "metadata": {
        "colab": {
          "base_uri": "https://localhost:8080/"
        },
        "id": "YNL47KSg54lQ",
        "outputId": "bc5bf3cb-3273-486c-a55c-db9a2a90241e"
      },
      "execution_count": 78,
      "outputs": [
        {
          "output_type": "execute_result",
          "data": {
            "text/plain": [
              "<tf.Tensor: shape=(2,), dtype=int32, numpy=array([ 7, 10], dtype=int32)>"
            ]
          },
          "metadata": {},
          "execution_count": 78
        }
      ]
    },
    {
      "cell_type": "markdown",
      "source": [
        "Let's go throgh the folowing form of aggregaiton\n",
        "* Get the minimun\n",
        "* Get the maximum\n",
        "* Get the mean of a tensor\n",
        "* Get the sum of the tensor\n"
      ],
      "metadata": {
        "id": "eeLfUy0m6LML"
      }
    },
    {
      "cell_type": "code",
      "source": [
        "# Find the mean of tensor (dtype = int32)\n",
        "D, tf.reduce_mean(D)"
      ],
      "metadata": {
        "colab": {
          "base_uri": "https://localhost:8080/"
        },
        "id": "bpSW0Sud6afx",
        "outputId": "1af2422e-674d-4516-e56f-d6e83a6b830f"
      },
      "execution_count": 79,
      "outputs": [
        {
          "output_type": "execute_result",
          "data": {
            "text/plain": [
              "(<tf.Tensor: shape=(2,), dtype=int32, numpy=array([ -7, -10], dtype=int32)>,\n",
              " <tf.Tensor: shape=(), dtype=int32, numpy=-8>)"
            ]
          },
          "metadata": {},
          "execution_count": 79
        }
      ]
    },
    {
      "cell_type": "code",
      "source": [
        "# Find the mean of tensor (dtype = float32)\n",
        "D = tf.cast(D, dtype = tf.float32)\n",
        "D, tf.reduce_mean(D)"
      ],
      "metadata": {
        "colab": {
          "base_uri": "https://localhost:8080/"
        },
        "id": "HnEmwKnb7Ac1",
        "outputId": "de28034e-3e6d-41f6-8f9d-6be314b8f989"
      },
      "execution_count": 80,
      "outputs": [
        {
          "output_type": "execute_result",
          "data": {
            "text/plain": [
              "(<tf.Tensor: shape=(2,), dtype=float32, numpy=array([ -7., -10.], dtype=float32)>,\n",
              " <tf.Tensor: shape=(), dtype=float32, numpy=-8.5>)"
            ]
          },
          "metadata": {},
          "execution_count": 80
        }
      ]
    },
    {
      "cell_type": "code",
      "source": [
        "# Find the min and max and sum of tensor\n",
        "tf.reduce_min(D), tf.reduce_max(D), tf.reduce_sum(D)"
      ],
      "metadata": {
        "colab": {
          "base_uri": "https://localhost:8080/"
        },
        "id": "JUjg_PRN7WNC",
        "outputId": "60ee2a2c-b3bd-46bb-c2d6-a057c9145236"
      },
      "execution_count": 81,
      "outputs": [
        {
          "output_type": "execute_result",
          "data": {
            "text/plain": [
              "(<tf.Tensor: shape=(), dtype=float32, numpy=-10.0>,\n",
              " <tf.Tensor: shape=(), dtype=float32, numpy=-7.0>,\n",
              " <tf.Tensor: shape=(), dtype=float32, numpy=-17.0>)"
            ]
          },
          "metadata": {},
          "execution_count": 81
        }
      ]
    },
    {
      "cell_type": "code",
      "source": [
        "# Create another random tensor between 0 and 100 with size 50\n",
        "E = tf.constant(np.random.randint(0, 100, size = 50))\n",
        "E"
      ],
      "metadata": {
        "colab": {
          "base_uri": "https://localhost:8080/"
        },
        "id": "I7ULtP7X7vgU",
        "outputId": "c6a4e46d-05ea-4215-b92d-2c48b20d1174"
      },
      "execution_count": 82,
      "outputs": [
        {
          "output_type": "execute_result",
          "data": {
            "text/plain": [
              "<tf.Tensor: shape=(50,), dtype=int64, numpy=\n",
              "array([32, 57, 71, 49,  4, 99, 45, 12, 11,  3, 82, 30, 35, 14, 92, 99, 71,\n",
              "       86, 12, 34, 47,  6, 28, 90, 52, 71, 38, 79, 26, 55, 87, 11, 43, 38,\n",
              "       14, 73, 48, 40, 42, 75, 10, 42, 15, 27, 65, 51, 57, 23, 40,  7])>"
            ]
          },
          "metadata": {},
          "execution_count": 82
        }
      ]
    },
    {
      "cell_type": "code",
      "source": [
        "tf.size(E), E.shape, E.ndim"
      ],
      "metadata": {
        "colab": {
          "base_uri": "https://localhost:8080/"
        },
        "id": "RjQQueC58cfL",
        "outputId": "48a290ce-2dbb-40af-dc6d-701eae1badc7"
      },
      "execution_count": 83,
      "outputs": [
        {
          "output_type": "execute_result",
          "data": {
            "text/plain": [
              "(<tf.Tensor: shape=(), dtype=int32, numpy=50>, TensorShape([50]), 1)"
            ]
          },
          "metadata": {},
          "execution_count": 83
        }
      ]
    },
    {
      "cell_type": "code",
      "source": [
        "# Find min, max, sum, mean,\n",
        "tf.reduce_min(E), tf.reduce_max(E), tf.reduce_sum(E), tf.reduce_mean(E)"
      ],
      "metadata": {
        "colab": {
          "base_uri": "https://localhost:8080/"
        },
        "id": "ZVhjfv-S8tA8",
        "outputId": "48c73e37-0e95-4049-dcc7-cbc64904273d"
      },
      "execution_count": 84,
      "outputs": [
        {
          "output_type": "execute_result",
          "data": {
            "text/plain": [
              "(<tf.Tensor: shape=(), dtype=int64, numpy=3>,\n",
              " <tf.Tensor: shape=(), dtype=int64, numpy=99>,\n",
              " <tf.Tensor: shape=(), dtype=int64, numpy=2238>,\n",
              " <tf.Tensor: shape=(), dtype=int64, numpy=44>)"
            ]
          },
          "metadata": {},
          "execution_count": 84
        }
      ]
    },
    {
      "cell_type": "markdown",
      "source": [
        "**Excercise: finding variance and std_dev using tensorflow method**"
      ],
      "metadata": {
        "id": "hpjJJbMIAptW"
      }
    },
    {
      "cell_type": "code",
      "source": [
        "# Find the std\n",
        "# tf.math.reduce_std(E) # TypeError: Input must be either real or complex. Received integer type <dtype: 'int64'>.\n",
        "E = tf.cast(E, dtype = tf.float32)\n",
        "tf.math.reduce_std(E)"
      ],
      "metadata": {
        "colab": {
          "base_uri": "https://localhost:8080/"
        },
        "id": "rB4RU4yADRCn",
        "outputId": "b7424b0a-b370-4e9e-bad2-060960142f4d"
      },
      "execution_count": 85,
      "outputs": [
        {
          "output_type": "execute_result",
          "data": {
            "text/plain": [
              "<tf.Tensor: shape=(), dtype=float32, numpy=27.50895118713379>"
            ]
          },
          "metadata": {},
          "execution_count": 85
        }
      ]
    },
    {
      "cell_type": "markdown",
      "source": [
        "The input tensor must be complex type or float to be used in .math.reduce_std()"
      ],
      "metadata": {
        "id": "u71NVJNhEGYP"
      }
    },
    {
      "cell_type": "code",
      "source": [
        "# Find the variance\n",
        "tf.math.reduce_variance(E)"
      ],
      "metadata": {
        "colab": {
          "base_uri": "https://localhost:8080/"
        },
        "id": "H6QnD_G4Ewky",
        "outputId": "c13f2d22-4dda-4ec9-a69c-f8c1b913e72d"
      },
      "execution_count": 86,
      "outputs": [
        {
          "output_type": "execute_result",
          "data": {
            "text/plain": [
              "<tf.Tensor: shape=(), dtype=float32, numpy=756.742431640625>"
            ]
          },
          "metadata": {},
          "execution_count": 86
        }
      ]
    },
    {
      "cell_type": "code",
      "source": [
        "# Another method using tensorflow_probability library\n",
        "import tensorflow_probability as tfp\n",
        "\n",
        "tfp.stats.variance(D)"
      ],
      "metadata": {
        "colab": {
          "base_uri": "https://localhost:8080/"
        },
        "id": "2sWCDY3M_Tmd",
        "outputId": "e17cdf04-6af0-46d9-8162-79eec4bb9cc3"
      },
      "execution_count": 87,
      "outputs": [
        {
          "output_type": "execute_result",
          "data": {
            "text/plain": [
              "<tf.Tensor: shape=(), dtype=float32, numpy=2.25>"
            ]
          },
          "metadata": {},
          "execution_count": 87
        }
      ]
    },
    {
      "cell_type": "markdown",
      "source": [
        "### Find the positional maximun and minimun"
      ],
      "metadata": {
        "id": "TfkliCfGCex5"
      }
    },
    {
      "cell_type": "markdown",
      "source": [
        "resource: https://www.tensorflow.org/api_docs/python/tf/math/argmax"
      ],
      "metadata": {
        "id": "k74WlF0IHXWZ"
      }
    },
    {
      "cell_type": "code",
      "source": [
        "# Creating a new tensor for findng the positional maximun and minimun\n",
        "tf.random.set_seed(42)\n",
        "F = tf.random.uniform(shape = [50])\n",
        "F"
      ],
      "metadata": {
        "colab": {
          "base_uri": "https://localhost:8080/"
        },
        "id": "3jssg5L8EdT1",
        "outputId": "6609c97c-d514-4677-8378-202834a03e53"
      },
      "execution_count": 88,
      "outputs": [
        {
          "output_type": "execute_result",
          "data": {
            "text/plain": [
              "<tf.Tensor: shape=(50,), dtype=float32, numpy=\n",
              "array([0.6645621 , 0.44100678, 0.3528825 , 0.46448255, 0.03366041,\n",
              "       0.68467236, 0.74011743, 0.8724445 , 0.22632635, 0.22319686,\n",
              "       0.3103881 , 0.7223358 , 0.13318717, 0.5480639 , 0.5746088 ,\n",
              "       0.8996835 , 0.00946367, 0.5212307 , 0.6345445 , 0.1993283 ,\n",
              "       0.72942245, 0.54583454, 0.10756552, 0.6767061 , 0.6602763 ,\n",
              "       0.33695042, 0.60141766, 0.21062577, 0.8527372 , 0.44062173,\n",
              "       0.9485276 , 0.23752594, 0.81179297, 0.5263394 , 0.494308  ,\n",
              "       0.21612847, 0.8457197 , 0.8718841 , 0.3083862 , 0.6868038 ,\n",
              "       0.23764038, 0.7817228 , 0.9671384 , 0.06870162, 0.79873943,\n",
              "       0.66028714, 0.5871513 , 0.16461694, 0.7381023 , 0.32054043],\n",
              "      dtype=float32)>"
            ]
          },
          "metadata": {},
          "execution_count": 88
        }
      ]
    },
    {
      "cell_type": "code",
      "source": [
        "# Find the positional maximun\n",
        "tf.argmax(F)"
      ],
      "metadata": {
        "colab": {
          "base_uri": "https://localhost:8080/"
        },
        "id": "ew0t_cejGo0Q",
        "outputId": "52224275-7742-405b-f329-b4fcd1f4c03c"
      },
      "execution_count": 89,
      "outputs": [
        {
          "output_type": "execute_result",
          "data": {
            "text/plain": [
              "<tf.Tensor: shape=(), dtype=int64, numpy=42>"
            ]
          },
          "metadata": {},
          "execution_count": 89
        }
      ]
    },
    {
      "cell_type": "markdown",
      "source": [
        "F[...]: This is the standard indexing operation.\n",
        "\n",
        "It takes the index found in step 1 and uses it to retrieve the actual value at that position in tensor F"
      ],
      "metadata": {
        "id": "-XxchB2QIWDU"
      }
    },
    {
      "cell_type": "code",
      "source": [
        "# Find the max value of F\n",
        "tf.reduce_max(F)"
      ],
      "metadata": {
        "colab": {
          "base_uri": "https://localhost:8080/"
        },
        "id": "iNktyJ1OH1a2",
        "outputId": "1121edba-5cff-4dcb-f0a1-b5a9384eb614"
      },
      "execution_count": 90,
      "outputs": [
        {
          "output_type": "execute_result",
          "data": {
            "text/plain": [
              "<tf.Tensor: shape=(), dtype=float32, numpy=0.967138409614563>"
            ]
          },
          "metadata": {},
          "execution_count": 90
        }
      ]
    },
    {
      "cell_type": "code",
      "source": [
        "# Index on our largest value position\n",
        "F[tf.argmax((F))]"
      ],
      "metadata": {
        "colab": {
          "base_uri": "https://localhost:8080/"
        },
        "id": "1KWDF7ZXHOfd",
        "outputId": "6c64257b-a654-451d-835b-554f8cb59d24"
      },
      "execution_count": 91,
      "outputs": [
        {
          "output_type": "execute_result",
          "data": {
            "text/plain": [
              "<tf.Tensor: shape=(), dtype=float32, numpy=0.967138409614563>"
            ]
          },
          "metadata": {},
          "execution_count": 91
        }
      ]
    },
    {
      "cell_type": "code",
      "source": [
        "# Chec for equality\n",
        "F[tf.argmax(F)] == tf.reduce_max(F)"
      ],
      "metadata": {
        "colab": {
          "base_uri": "https://localhost:8080/"
        },
        "id": "mQY-WwXNIi7C",
        "outputId": "4f8205c5-08cd-447a-a5da-04be49678451"
      },
      "execution_count": 92,
      "outputs": [
        {
          "output_type": "execute_result",
          "data": {
            "text/plain": [
              "<tf.Tensor: shape=(), dtype=bool, numpy=True>"
            ]
          },
          "metadata": {},
          "execution_count": 92
        }
      ]
    },
    {
      "cell_type": "code",
      "source": [
        "# Find the positional minimun (index) and use the index to dinf the value of the positional minimu\n",
        "tf.argmin(F), F[tf.argmin(F)]"
      ],
      "metadata": {
        "colab": {
          "base_uri": "https://localhost:8080/"
        },
        "id": "z3yKTLicIwbT",
        "outputId": "76f736f6-60e9-406e-faed-e6bfda40de11"
      },
      "execution_count": 93,
      "outputs": [
        {
          "output_type": "execute_result",
          "data": {
            "text/plain": [
              "(<tf.Tensor: shape=(), dtype=int64, numpy=16>,\n",
              " <tf.Tensor: shape=(), dtype=float32, numpy=0.009463667869567871>)"
            ]
          },
          "metadata": {},
          "execution_count": 93
        }
      ]
    },
    {
      "cell_type": "code",
      "source": [
        "# Practice\n",
        "mytensor = [1,2,3,4,5,6]\n",
        "tf.argmax(mytensor), mytensor[tf.argmax(mytensor)], tf.argmin(mytensor), mytensor[tf.argmin(mytensor)]"
      ],
      "metadata": {
        "colab": {
          "base_uri": "https://localhost:8080/"
        },
        "id": "kcD46vqUKaZa",
        "outputId": "6b4ef3bb-6e5e-4187-b5b0-967fa32ea4c5"
      },
      "execution_count": 94,
      "outputs": [
        {
          "output_type": "execute_result",
          "data": {
            "text/plain": [
              "(<tf.Tensor: shape=(), dtype=int64, numpy=5>,\n",
              " 6,\n",
              " <tf.Tensor: shape=(), dtype=int64, numpy=0>,\n",
              " 1)"
            ]
          },
          "metadata": {},
          "execution_count": 94
        }
      ]
    },
    {
      "cell_type": "markdown",
      "source": [
        "### Squeezing a tensor (removing all single dimensions)"
      ],
      "metadata": {
        "id": "RxintoWuLD4L"
      }
    },
    {
      "cell_type": "code",
      "source": [
        "# Creare a tensor to get started\n",
        "tf.random.set_seed(42)\n",
        "G = tf.constant(tf.random.uniform(shape = [50]), shape = (1,1,1,1,50))\n",
        "G"
      ],
      "metadata": {
        "colab": {
          "base_uri": "https://localhost:8080/"
        },
        "id": "6xRD67qVLe_E",
        "outputId": "3a583b23-a595-48e8-aea0-1f3acb183430"
      },
      "execution_count": 95,
      "outputs": [
        {
          "output_type": "execute_result",
          "data": {
            "text/plain": [
              "<tf.Tensor: shape=(1, 1, 1, 1, 50), dtype=float32, numpy=\n",
              "array([[[[[0.6645621 , 0.44100678, 0.3528825 , 0.46448255, 0.03366041,\n",
              "           0.68467236, 0.74011743, 0.8724445 , 0.22632635, 0.22319686,\n",
              "           0.3103881 , 0.7223358 , 0.13318717, 0.5480639 , 0.5746088 ,\n",
              "           0.8996835 , 0.00946367, 0.5212307 , 0.6345445 , 0.1993283 ,\n",
              "           0.72942245, 0.54583454, 0.10756552, 0.6767061 , 0.6602763 ,\n",
              "           0.33695042, 0.60141766, 0.21062577, 0.8527372 , 0.44062173,\n",
              "           0.9485276 , 0.23752594, 0.81179297, 0.5263394 , 0.494308  ,\n",
              "           0.21612847, 0.8457197 , 0.8718841 , 0.3083862 , 0.6868038 ,\n",
              "           0.23764038, 0.7817228 , 0.9671384 , 0.06870162, 0.79873943,\n",
              "           0.66028714, 0.5871513 , 0.16461694, 0.7381023 , 0.32054043]]]]],\n",
              "      dtype=float32)>"
            ]
          },
          "metadata": {},
          "execution_count": 95
        }
      ]
    },
    {
      "cell_type": "code",
      "source": [
        "G.shape"
      ],
      "metadata": {
        "colab": {
          "base_uri": "https://localhost:8080/"
        },
        "id": "XRjXj9gyMxVt",
        "outputId": "587931f9-a785-4d28-b776-324b9ff940d9"
      },
      "execution_count": 96,
      "outputs": [
        {
          "output_type": "execute_result",
          "data": {
            "text/plain": [
              "TensorShape([1, 1, 1, 1, 50])"
            ]
          },
          "metadata": {},
          "execution_count": 96
        }
      ]
    },
    {
      "cell_type": "code",
      "source": [
        "G_squeezed = tf.squeeze(G)\n",
        "G_squeezed, G_squeezed.shape"
      ],
      "metadata": {
        "colab": {
          "base_uri": "https://localhost:8080/"
        },
        "id": "OQsI86syNGpe",
        "outputId": "f2409ee0-8065-469c-a93b-06de8939357a"
      },
      "execution_count": 97,
      "outputs": [
        {
          "output_type": "execute_result",
          "data": {
            "text/plain": [
              "(<tf.Tensor: shape=(50,), dtype=float32, numpy=\n",
              " array([0.6645621 , 0.44100678, 0.3528825 , 0.46448255, 0.03366041,\n",
              "        0.68467236, 0.74011743, 0.8724445 , 0.22632635, 0.22319686,\n",
              "        0.3103881 , 0.7223358 , 0.13318717, 0.5480639 , 0.5746088 ,\n",
              "        0.8996835 , 0.00946367, 0.5212307 , 0.6345445 , 0.1993283 ,\n",
              "        0.72942245, 0.54583454, 0.10756552, 0.6767061 , 0.6602763 ,\n",
              "        0.33695042, 0.60141766, 0.21062577, 0.8527372 , 0.44062173,\n",
              "        0.9485276 , 0.23752594, 0.81179297, 0.5263394 , 0.494308  ,\n",
              "        0.21612847, 0.8457197 , 0.8718841 , 0.3083862 , 0.6868038 ,\n",
              "        0.23764038, 0.7817228 , 0.9671384 , 0.06870162, 0.79873943,\n",
              "        0.66028714, 0.5871513 , 0.16461694, 0.7381023 , 0.32054043],\n",
              "       dtype=float32)>,\n",
              " TensorShape([50]))"
            ]
          },
          "metadata": {},
          "execution_count": 97
        }
      ]
    },
    {
      "cell_type": "markdown",
      "source": [
        "### One-hot encoding tensors"
      ],
      "metadata": {
        "id": "5ACxuY4HNLxQ"
      }
    },
    {
      "cell_type": "code",
      "source": [
        "# Create a list of indices\n",
        "some_list = [0,1,2,3] # red, green, blue, purple\n",
        "\n",
        "# One hot encode pur list of indices\n",
        "tf.one_hot(some_list, depth = 4)"
      ],
      "metadata": {
        "colab": {
          "base_uri": "https://localhost:8080/"
        },
        "id": "XZTTkWnbOu9m",
        "outputId": "1d01c322-1ffe-4fc2-ea99-f4a0dd6c9972"
      },
      "execution_count": 98,
      "outputs": [
        {
          "output_type": "execute_result",
          "data": {
            "text/plain": [
              "<tf.Tensor: shape=(4, 4), dtype=float32, numpy=\n",
              "array([[1., 0., 0., 0.],\n",
              "       [0., 1., 0., 0.],\n",
              "       [0., 0., 1., 0.],\n",
              "       [0., 0., 0., 1.]], dtype=float32)>"
            ]
          },
          "metadata": {},
          "execution_count": 98
        }
      ]
    },
    {
      "cell_type": "code",
      "source": [
        "# Specify custome value for one-hot encoding\n",
        "tf.one_hot(some_list, depth = 4, on_value = \"Yes\", off_value = \"no\")\n",
        "# depth: A scalar defining the depth of the one hot dimension."
      ],
      "metadata": {
        "colab": {
          "base_uri": "https://localhost:8080/"
        },
        "id": "46SrcL63kpP8",
        "outputId": "e8c69ebc-9f8a-44c0-c701-c9bf2baba115"
      },
      "execution_count": 99,
      "outputs": [
        {
          "output_type": "execute_result",
          "data": {
            "text/plain": [
              "<tf.Tensor: shape=(4, 4), dtype=string, numpy=\n",
              "array([[b'Yes', b'no', b'no', b'no'],\n",
              "       [b'no', b'Yes', b'no', b'no'],\n",
              "       [b'no', b'no', b'Yes', b'no'],\n",
              "       [b'no', b'no', b'no', b'Yes']], dtype=object)>"
            ]
          },
          "metadata": {},
          "execution_count": 99
        }
      ]
    },
    {
      "cell_type": "markdown",
      "source": [
        "The depth argument specifies the total number of possible categories, which in turn defines the length of each one-hot vector.\n"
      ],
      "metadata": {
        "id": "zxAMSQC5KqZ8"
      }
    },
    {
      "cell_type": "markdown",
      "source": [
        "resource: https://www.tensorflow.org/api_docs/python/tf/one_hot"
      ],
      "metadata": {
        "id": "IUb0BnyenSw4"
      }
    },
    {
      "cell_type": "markdown",
      "source": [
        "### Squaring, log, sqaure root"
      ],
      "metadata": {
        "id": "Qnpor-goQ111"
      }
    },
    {
      "cell_type": "code",
      "source": [
        "# Create a new tensor\n",
        "H = tf.range(1,10)\n",
        "H"
      ],
      "metadata": {
        "colab": {
          "base_uri": "https://localhost:8080/"
        },
        "id": "jILz7fnnQ8KE",
        "outputId": "882559cb-8aac-43c8-b343-841349ef6925"
      },
      "execution_count": 100,
      "outputs": [
        {
          "output_type": "execute_result",
          "data": {
            "text/plain": [
              "<tf.Tensor: shape=(9,), dtype=int32, numpy=array([1, 2, 3, 4, 5, 6, 7, 8, 9], dtype=int32)>"
            ]
          },
          "metadata": {},
          "execution_count": 100
        }
      ]
    },
    {
      "cell_type": "markdown",
      "source": [
        "resource: https://www.tensorflow.org/api_docs/python/tf/range"
      ],
      "metadata": {
        "id": "hJmUhnnGRLAn"
      }
    },
    {
      "cell_type": "code",
      "source": [
        "# square a tensor\n",
        "tf.square(H)"
      ],
      "metadata": {
        "colab": {
          "base_uri": "https://localhost:8080/"
        },
        "id": "gT94IJTTRD8m",
        "outputId": "4df06c4c-ac9a-4649-bfee-f2778fa7aeda"
      },
      "execution_count": 101,
      "outputs": [
        {
          "output_type": "execute_result",
          "data": {
            "text/plain": [
              "<tf.Tensor: shape=(9,), dtype=int32, numpy=array([ 1,  4,  9, 16, 25, 36, 49, 64, 81], dtype=int32)>"
            ]
          },
          "metadata": {},
          "execution_count": 101
        }
      ]
    },
    {
      "cell_type": "code",
      "source": [
        "# Find the square root\n",
        "# tf.math.sqrt(H)   # Value for attr 'T' of int32 is not in the list of allowed values: Method requires non-int type\n",
        "H = tf.cast(H, dtype = tf.float32)\n",
        "tf.math.sqrt(H)"
      ],
      "metadata": {
        "colab": {
          "base_uri": "https://localhost:8080/"
        },
        "id": "ON5bMjqGRUB3",
        "outputId": "b9b98eb3-7b43-4c44-f4f8-7105ee41fbb4"
      },
      "execution_count": 102,
      "outputs": [
        {
          "output_type": "execute_result",
          "data": {
            "text/plain": [
              "<tf.Tensor: shape=(9,), dtype=float32, numpy=\n",
              "array([1.       , 1.4142135, 1.7320508, 2.       , 2.236068 , 2.4494898,\n",
              "       2.6457512, 2.828427 , 3.       ], dtype=float32)>"
            ]
          },
          "metadata": {},
          "execution_count": 102
        }
      ]
    },
    {
      "cell_type": "code",
      "source": [
        "# Find the log, also int is not allowed input\n",
        "tf.math.log(H)"
      ],
      "metadata": {
        "colab": {
          "base_uri": "https://localhost:8080/"
        },
        "id": "hlnLeuhiRgfL",
        "outputId": "0ca1caf5-f64d-4565-e407-3fd3820035b1"
      },
      "execution_count": 103,
      "outputs": [
        {
          "output_type": "execute_result",
          "data": {
            "text/plain": [
              "<tf.Tensor: shape=(9,), dtype=float32, numpy=\n",
              "array([0.       , 0.6931472, 1.0986123, 1.3862944, 1.609438 , 1.7917595,\n",
              "       1.9459102, 2.0794415, 2.1972246], dtype=float32)>"
            ]
          },
          "metadata": {},
          "execution_count": 103
        }
      ]
    },
    {
      "cell_type": "markdown",
      "source": [
        "### Tensors and Numpy\n",
        "\n",
        "Tensorflow interact beutifully with numpy arrays\n",
        "\n",
        "**Note:** One of the main difference between a Tensorflow tensor and a numpy array is that the Tensorflow tensor can be run on a GPU or TPU for faster numerical processing"
      ],
      "metadata": {
        "id": "0fjmW5FQSo2i"
      }
    },
    {
      "cell_type": "code",
      "source": [
        "# Create a tensor directly form a numpy array\n",
        "J = tf.constant(np.array([3.,7.,10.]))\n",
        "J"
      ],
      "metadata": {
        "colab": {
          "base_uri": "https://localhost:8080/"
        },
        "id": "S487y3pnTGAM",
        "outputId": "876d4aa5-683a-4655-d48a-40b3a84993fd"
      },
      "execution_count": 104,
      "outputs": [
        {
          "output_type": "execute_result",
          "data": {
            "text/plain": [
              "<tf.Tensor: shape=(3,), dtype=float64, numpy=array([ 3.,  7., 10.])>"
            ]
          },
          "metadata": {},
          "execution_count": 104
        }
      ]
    },
    {
      "cell_type": "code",
      "source": [
        "# Conver out tensor into a Numpy array\n",
        "np.array(J), type(np.array(J))"
      ],
      "metadata": {
        "colab": {
          "base_uri": "https://localhost:8080/"
        },
        "id": "uAZQALLmTj1z",
        "outputId": "7677563c-4d25-4664-9f62-ebb3bad70cd0"
      },
      "execution_count": 105,
      "outputs": [
        {
          "output_type": "execute_result",
          "data": {
            "text/plain": [
              "(array([ 3.,  7., 10.]), numpy.ndarray)"
            ]
          },
          "metadata": {},
          "execution_count": 105
        }
      ]
    },
    {
      "cell_type": "code",
      "source": [
        "# Convert tensor J into a Numpy array\n",
        "J.numpy(), type(J.numpy)"
      ],
      "metadata": {
        "colab": {
          "base_uri": "https://localhost:8080/"
        },
        "id": "GvtZib6KTwWC",
        "outputId": "cee98005-a280-4e02-8eb0-bbb9097a2fbd"
      },
      "execution_count": 106,
      "outputs": [
        {
          "output_type": "execute_result",
          "data": {
            "text/plain": [
              "(array([ 3.,  7., 10.]), method)"
            ]
          },
          "metadata": {},
          "execution_count": 106
        }
      ]
    },
    {
      "cell_type": "code",
      "source": [
        "# The default type of each is slightly different\n",
        "numpy_J = tf.constant(np.array([3.,7.,10.]))\n",
        "tensor_J = tf.constant([3.,7.,10.])\n",
        "\n",
        "# check the datatype of each\n",
        "numpy_J.dtype, tensor_J.dtype"
      ],
      "metadata": {
        "colab": {
          "base_uri": "https://localhost:8080/"
        },
        "id": "L5E-eyXfU_-G",
        "outputId": "bfdb0d12-bf0f-4f23-bd54-a9e684f08d2a"
      },
      "execution_count": 107,
      "outputs": [
        {
          "output_type": "execute_result",
          "data": {
            "text/plain": [
              "(tf.float64, tf.float32)"
            ]
          },
          "metadata": {},
          "execution_count": 107
        }
      ]
    },
    {
      "cell_type": "markdown",
      "source": [
        "When we want to convert a numpy array to a tensor, the datatype will be different from where we directly create a tensor"
      ],
      "metadata": {
        "id": "Q8n5NkbcWHau"
      }
    },
    {
      "cell_type": "markdown",
      "source": [
        "### Finding access to GPUs\n",
        "https://www.tensorflow.org/api_docs/python/tf/config/list_physical_devices\n",
        "\n",
        "```\n",
        "# 此內容會顯示為程式碼\n",
        "```\n",
        "\n"
      ],
      "metadata": {
        "id": "sT1lKfJ0WOjp"
      }
    },
    {
      "cell_type": "code",
      "source": [
        "tf.config.list_physical_devices(), tf.config.list_physical_devices(\"GPU\")"
      ],
      "metadata": {
        "colab": {
          "base_uri": "https://localhost:8080/"
        },
        "id": "FUos8hBTXdB_",
        "outputId": "c338591c-f011-4953-a33a-da4c947f4f73"
      },
      "execution_count": 108,
      "outputs": [
        {
          "output_type": "execute_result",
          "data": {
            "text/plain": [
              "([PhysicalDevice(name='/physical_device:CPU:0', device_type='CPU')], [])"
            ]
          },
          "metadata": {},
          "execution_count": 108
        }
      ]
    },
    {
      "cell_type": "markdown",
      "source": [
        "**Note:**\n",
        "\n",
        "If you have access to a CUDA-enabled GPU, Tensorflow will automatically use it whenever possible"
      ],
      "metadata": {
        "id": "i69yqjqAYaK0"
      }
    },
    {
      "cell_type": "markdown",
      "source": [
        "### Excercise 1 (Fundamental)\n"
      ],
      "metadata": {
        "id": "b7U7dO0dZwwq"
      }
    },
    {
      "cell_type": "code",
      "source": [
        "# 1. Create a vector, scalar, matrix and tensor with values of your choosing using tf.constant().\n",
        "myscaler = tf.constant(7)\n",
        "mymatrix = tf.constant([2,3])\n",
        "mytensor = tf.constant([[2,3],[4,5]])"
      ],
      "metadata": {
        "id": "Cpxl2pFvbC69"
      },
      "execution_count": 109,
      "outputs": []
    },
    {
      "cell_type": "code",
      "source": [
        "# 2. Find the shape, rank and size of the tensors you created in 1.\n",
        "def describe_tensor(tensor):\n",
        "  print(tensor.shape)\n",
        "  print(tensor.ndim)\n",
        "  print(tf.size(tensor))\n",
        "  print(\"-\"*50)\n",
        "\n",
        "describe_tensor(myscaler), describe_tensor(mymatrix), describe_tensor(mytensor)"
      ],
      "metadata": {
        "colab": {
          "base_uri": "https://localhost:8080/"
        },
        "id": "tKs_8PY2bFsL",
        "outputId": "94c70232-b1f6-4860-a279-a83a4acecc4e"
      },
      "execution_count": 110,
      "outputs": [
        {
          "output_type": "stream",
          "name": "stdout",
          "text": [
            "()\n",
            "0\n",
            "tf.Tensor(1, shape=(), dtype=int32)\n",
            "--------------------------------------------------\n",
            "(2,)\n",
            "1\n",
            "tf.Tensor(2, shape=(), dtype=int32)\n",
            "--------------------------------------------------\n",
            "(2, 2)\n",
            "2\n",
            "tf.Tensor(4, shape=(), dtype=int32)\n",
            "--------------------------------------------------\n"
          ]
        },
        {
          "output_type": "execute_result",
          "data": {
            "text/plain": [
              "(None, None, None)"
            ]
          },
          "metadata": {},
          "execution_count": 110
        }
      ]
    },
    {
      "cell_type": "code",
      "source": [
        "# 3. Create two tensors containing random values between 0 and 1 with shape [5, 300].\n",
        "tensor_1 = tf.random.uniform(shape = [5,300])\n",
        "tensor_2 = tf.random.uniform(shape = [5,300])\n",
        "tensor_1, tensor_2"
      ],
      "metadata": {
        "id": "SNdlX9RXbzWN",
        "colab": {
          "base_uri": "https://localhost:8080/"
        },
        "outputId": "83ab9c2c-2c8d-49f2-adc3-eb52e83fe300"
      },
      "execution_count": 111,
      "outputs": [
        {
          "output_type": "execute_result",
          "data": {
            "text/plain": [
              "(<tf.Tensor: shape=(5, 300), dtype=float32, numpy=\n",
              " array([[0.68789124, 0.48447883, 0.9309944 , ..., 0.6920762 , 0.33180213,\n",
              "         0.9212563 ],\n",
              "        [0.27369928, 0.10631859, 0.6218617 , ..., 0.4382149 , 0.30427706,\n",
              "         0.51477313],\n",
              "        [0.00920248, 0.37280262, 0.8177401 , ..., 0.56786287, 0.49201214,\n",
              "         0.9892651 ],\n",
              "        [0.88608265, 0.08672249, 0.12160683, ..., 0.91770685, 0.72545695,\n",
              "         0.8280058 ],\n",
              "        [0.36690474, 0.9200133 , 0.9646884 , ..., 0.69012   , 0.7137332 ,\n",
              "         0.2584542 ]], dtype=float32)>,\n",
              " <tf.Tensor: shape=(5, 300), dtype=float32, numpy=\n",
              " array([[0.7413678 , 0.62854624, 0.01738465, ..., 0.4851334 , 0.21059811,\n",
              "         0.25082767],\n",
              "        [0.10842848, 0.48783147, 0.8240961 , ..., 0.9204427 , 0.36046863,\n",
              "         0.28176582],\n",
              "        [0.7326695 , 0.46489418, 0.13622475, ..., 0.28130388, 0.63987684,\n",
              "         0.9987265 ],\n",
              "        [0.01447165, 0.7845044 , 0.33475304, ..., 0.56194997, 0.0209924 ,\n",
              "         0.1740731 ],\n",
              "        [0.90936875, 0.19861352, 0.9481231 , ..., 0.3573054 , 0.13161755,\n",
              "         0.22565222]], dtype=float32)>)"
            ]
          },
          "metadata": {},
          "execution_count": 111
        }
      ]
    },
    {
      "cell_type": "code",
      "source": [
        "# 4. Multiply the two tensors you created in 3 using matrix multiplication.\n",
        "tensor_1.shape, tensor_2.shape        # (TensorShape([5, 300]), TensorShape([5, 300]))\n",
        "tf.matmul(tensor_1, tf.transpose(tensor_2))  # (5X300)(300X5) = (5X5)"
      ],
      "metadata": {
        "id": "PUpZS8x3dOe_",
        "colab": {
          "base_uri": "https://localhost:8080/"
        },
        "outputId": "68a72c2b-b43b-44c9-c8f4-fc6d06542153"
      },
      "execution_count": 112,
      "outputs": [
        {
          "output_type": "execute_result",
          "data": {
            "text/plain": [
              "<tf.Tensor: shape=(5, 5), dtype=float32, numpy=\n",
              "array([[75.714005, 80.87824 , 78.32848 , 78.259705, 79.130585],\n",
              "       [70.12708 , 72.09945 , 70.1678  , 73.24609 , 74.277405],\n",
              "       [75.16    , 79.52858 , 76.74644 , 78.14265 , 77.28679 ],\n",
              "       [77.113556, 75.401215, 72.79378 , 75.066376, 75.206535],\n",
              "       [79.87284 , 83.40138 , 78.57373 , 79.025894, 81.82093 ]],\n",
              "      dtype=float32)>"
            ]
          },
          "metadata": {},
          "execution_count": 112
        }
      ]
    },
    {
      "cell_type": "code",
      "source": [
        "# 6. Create a tensor with random values between 0 and 1 with shape [224, 224, 3]\n",
        "tensor_3 = tf.random.uniform(shape = [224, 224, 3])"
      ],
      "metadata": {
        "id": "GSw_DrrEFd-B"
      },
      "execution_count": 113,
      "outputs": []
    },
    {
      "cell_type": "code",
      "source": [
        "# 7. Find the min and max values of the tensor you created in 6.\n",
        "tf.reduce_min(tensor_3), tf.reduce_max(tensor_3)"
      ],
      "metadata": {
        "colab": {
          "base_uri": "https://localhost:8080/"
        },
        "id": "DFuaUlNQGxEQ",
        "outputId": "04d98b4c-37ef-40b9-93b4-614d2b3065d9"
      },
      "execution_count": 114,
      "outputs": [
        {
          "output_type": "execute_result",
          "data": {
            "text/plain": [
              "(<tf.Tensor: shape=(), dtype=float32, numpy=1.0967254638671875e-05>,\n",
              " <tf.Tensor: shape=(), dtype=float32, numpy=0.9999902248382568>)"
            ]
          },
          "metadata": {},
          "execution_count": 114
        }
      ]
    },
    {
      "cell_type": "code",
      "source": [
        "# 8. Created a tensor with random values of shape [1, 224, 224, 3] then squeeze it to change the shape to [224, 224, 3]\n",
        "tensor_4 = tf.random.uniform(shape = [1, 224, 224, 3])\n",
        "tensor_4_squeezed = tf.squeeze(tensor_4)\n",
        "tensor_4.shape, tensor_4_squeezed.shape"
      ],
      "metadata": {
        "colab": {
          "base_uri": "https://localhost:8080/"
        },
        "id": "kHBprV26HCYA",
        "outputId": "3752bf0a-dff8-4c8e-a660-02d79f550fde"
      },
      "execution_count": 115,
      "outputs": [
        {
          "output_type": "execute_result",
          "data": {
            "text/plain": [
              "(TensorShape([1, 224, 224, 3]), TensorShape([224, 224, 3]))"
            ]
          },
          "metadata": {},
          "execution_count": 115
        }
      ]
    },
    {
      "cell_type": "code",
      "source": [
        "# 9. Create a tensor with shape [10] using your own choice of values, then find the index which has the maximum value.\n",
        "tensor_5 = [1,2,3,4,5,6,7,8,9,10]\n",
        "tf.argmax(tensor_5), tensor_5[tf.argmax(tensor_5)]"
      ],
      "metadata": {
        "colab": {
          "base_uri": "https://localhost:8080/"
        },
        "id": "kDy1isDwHQck",
        "outputId": "3f9e5514-23bb-4906-c34b-ad9238350238"
      },
      "execution_count": 116,
      "outputs": [
        {
          "output_type": "execute_result",
          "data": {
            "text/plain": [
              "(<tf.Tensor: shape=(), dtype=int64, numpy=9>, 10)"
            ]
          },
          "metadata": {},
          "execution_count": 116
        }
      ]
    },
    {
      "cell_type": "code",
      "source": [
        "# 10. One-hot encode the tensor you created in 9.\n",
        "tf.one_hot(tensor_5, depth = 10)"
      ],
      "metadata": {
        "colab": {
          "base_uri": "https://localhost:8080/"
        },
        "id": "nLRgCTHfHzUq",
        "outputId": "4392ace4-7e8e-479b-a554-e709224a1fe8"
      },
      "execution_count": 117,
      "outputs": [
        {
          "output_type": "execute_result",
          "data": {
            "text/plain": [
              "<tf.Tensor: shape=(10, 10), dtype=float32, numpy=\n",
              "array([[0., 1., 0., 0., 0., 0., 0., 0., 0., 0.],\n",
              "       [0., 0., 1., 0., 0., 0., 0., 0., 0., 0.],\n",
              "       [0., 0., 0., 1., 0., 0., 0., 0., 0., 0.],\n",
              "       [0., 0., 0., 0., 1., 0., 0., 0., 0., 0.],\n",
              "       [0., 0., 0., 0., 0., 1., 0., 0., 0., 0.],\n",
              "       [0., 0., 0., 0., 0., 0., 1., 0., 0., 0.],\n",
              "       [0., 0., 0., 0., 0., 0., 0., 1., 0., 0.],\n",
              "       [0., 0., 0., 0., 0., 0., 0., 0., 1., 0.],\n",
              "       [0., 0., 0., 0., 0., 0., 0., 0., 0., 1.],\n",
              "       [0., 0., 0., 0., 0., 0., 0., 0., 0., 0.]], dtype=float32)>"
            ]
          },
          "metadata": {},
          "execution_count": 117
        }
      ]
    },
    {
      "cell_type": "code",
      "source": [
        "tensor_6 = [0,1,2,3,4,5,6,7,8,9]\n",
        "tf.one_hot(tensor_6, depth = 10)"
      ],
      "metadata": {
        "colab": {
          "base_uri": "https://localhost:8080/"
        },
        "id": "xd4fbWMAIeCU",
        "outputId": "7490043b-01a8-4adc-e995-61cce0be08aa"
      },
      "execution_count": 118,
      "outputs": [
        {
          "output_type": "execute_result",
          "data": {
            "text/plain": [
              "<tf.Tensor: shape=(10, 10), dtype=float32, numpy=\n",
              "array([[1., 0., 0., 0., 0., 0., 0., 0., 0., 0.],\n",
              "       [0., 1., 0., 0., 0., 0., 0., 0., 0., 0.],\n",
              "       [0., 0., 1., 0., 0., 0., 0., 0., 0., 0.],\n",
              "       [0., 0., 0., 1., 0., 0., 0., 0., 0., 0.],\n",
              "       [0., 0., 0., 0., 1., 0., 0., 0., 0., 0.],\n",
              "       [0., 0., 0., 0., 0., 1., 0., 0., 0., 0.],\n",
              "       [0., 0., 0., 0., 0., 0., 1., 0., 0., 0.],\n",
              "       [0., 0., 0., 0., 0., 0., 0., 1., 0., 0.],\n",
              "       [0., 0., 0., 0., 0., 0., 0., 0., 1., 0.],\n",
              "       [0., 0., 0., 0., 0., 0., 0., 0., 0., 1.]], dtype=float32)>"
            ]
          },
          "metadata": {},
          "execution_count": 118
        }
      ]
    },
    {
      "cell_type": "markdown",
      "source": [
        "### Excercise 2 (Fundamental)"
      ],
      "metadata": {
        "id": "xQ4X4iDHzm3w"
      }
    },
    {
      "cell_type": "code",
      "source": [
        "# 1. Tensor Creation: Create the following tensors using tf.constant()\n",
        "# A scalar with the value 42.\n",
        "# A vector with the values [2, 4, 6, 8].\n",
        "# A matrix with the values [[1, 1], [2, 2]].:\n",
        "\n",
        "myscaler = tf.constant(42)\n",
        "myvector = tf.constant([2,4,6,8])\n",
        "mymatrix = tf.constant([[1, 1], [2, 2]])\n",
        "\n",
        "myscaler, myvector, mymatrix"
      ],
      "metadata": {
        "colab": {
          "base_uri": "https://localhost:8080/"
        },
        "id": "0Krr6CETzryz",
        "outputId": "9ca3a0ae-b91b-421b-883f-41b51be12afa"
      },
      "execution_count": 119,
      "outputs": [
        {
          "output_type": "execute_result",
          "data": {
            "text/plain": [
              "(<tf.Tensor: shape=(), dtype=int32, numpy=42>,\n",
              " <tf.Tensor: shape=(4,), dtype=int32, numpy=array([2, 4, 6, 8], dtype=int32)>,\n",
              " <tf.Tensor: shape=(2, 2), dtype=int32, numpy=\n",
              " array([[1, 1],\n",
              "        [2, 2]], dtype=int32)>)"
            ]
          },
          "metadata": {},
          "execution_count": 119
        }
      ]
    },
    {
      "cell_type": "code",
      "source": [
        "# 2. Tensor Properties: For the matrix you created in question 1, use TensorFlow attributes to find the following:\n",
        "# Its shape.\n",
        "# Its rank (number of dimensions).\n",
        "# Its total number of elements (size).\n",
        "\n",
        "def describe_tensor(tensor):\n",
        "  print(f\"tensor shape :{tensor.shape}\")\n",
        "  print(f\"tensor rank: {tensor.ndim}\")\n",
        "  print(f\"tensor size: {tf.size(tensor)}\")\n",
        "  print(\"-\"*50)\n",
        "\n",
        "describe_tensor(myscaler), describe_tensor(myvector), describe_tensor(mymatrix)"
      ],
      "metadata": {
        "colab": {
          "base_uri": "https://localhost:8080/"
        },
        "id": "UbUQjnQX0Lsd",
        "outputId": "94276b7d-8eed-430b-bece-fc7c35b013ab"
      },
      "execution_count": 120,
      "outputs": [
        {
          "output_type": "stream",
          "name": "stdout",
          "text": [
            "tensor shape :()\n",
            "tensor rank: 0\n",
            "tensor size: 1\n",
            "--------------------------------------------------\n",
            "tensor shape :(4,)\n",
            "tensor rank: 1\n",
            "tensor size: 4\n",
            "--------------------------------------------------\n",
            "tensor shape :(2, 2)\n",
            "tensor rank: 2\n",
            "tensor size: 4\n",
            "--------------------------------------------------\n"
          ]
        },
        {
          "output_type": "execute_result",
          "data": {
            "text/plain": [
              "(None, None, None)"
            ]
          },
          "metadata": {},
          "execution_count": 120
        }
      ]
    },
    {
      "cell_type": "code",
      "source": [
        "# 3. Random Tensors and Reproducibility:\n",
        "# Create two identical random tensors with a shape of (3, 2).\n",
        "# The values should be drawn from a normal distribution. How do you ensure they are identical?\n",
        "\n",
        "random_tensor_1 = tf.random.Generator.from_seed(42)\n",
        "random_tensor_1 = random_tensor_1.normal(shape = (3,2))\n",
        "random_tensor_2 = tf.random.Generator.from_seed(42)\n",
        "random_tensor_2 = random_tensor_2.normal(shape = (3,2))\n",
        "\n",
        "random_tensor_1, random_tensor_2"
      ],
      "metadata": {
        "colab": {
          "base_uri": "https://localhost:8080/"
        },
        "id": "q0Zoq7Y21UZg",
        "outputId": "b949687f-bdef-48d0-b598-e946423603fa"
      },
      "execution_count": 121,
      "outputs": [
        {
          "output_type": "execute_result",
          "data": {
            "text/plain": [
              "(<tf.Tensor: shape=(3, 2), dtype=float32, numpy=\n",
              " array([[-0.7565803 , -0.06854702],\n",
              "        [ 0.07595026, -1.2573844 ],\n",
              "        [-0.23193763, -1.8107855 ]], dtype=float32)>,\n",
              " <tf.Tensor: shape=(3, 2), dtype=float32, numpy=\n",
              " array([[-0.7565803 , -0.06854702],\n",
              "        [ 0.07595026, -1.2573844 ],\n",
              "        [-0.23193763, -1.8107855 ]], dtype=float32)>)"
            ]
          },
          "metadata": {},
          "execution_count": 121
        }
      ]
    },
    {
      "cell_type": "code",
      "source": [
        "# 4. Matrix Multiplication: You have two tensors:\n",
        "# Tensor A with shape (3, 4).\n",
        "# Tensor B with shape (3, 4).\n",
        "# Both contain random values.\n",
        "# Can you perform matrix multiplication on them as they are?\n",
        "# If not, what do you need to do to multiply them, and what will be the shape of the resulting tensor? Perform the multiplication.\n",
        "\n",
        "random_tensor_3 = tf.random.Generator.from_seed(42)\n",
        "random_tensor_3 = random_tensor_3.normal(shape = (3,4))\n",
        "random_tensor_4 = tf.random.Generator.from_seed(5)\n",
        "random_tensor_4 = random_tensor_4.normal(shape = (3,4))\n",
        "random_tensor_3, random_tensor_4\n",
        "\n",
        "tensor_5 = tf.matmul(random_tensor_3, tf.transpose(random_tensor_4))\n",
        "tensor_5"
      ],
      "metadata": {
        "colab": {
          "base_uri": "https://localhost:8080/"
        },
        "id": "d-CzX_hP5Ftk",
        "outputId": "f91782e3-195a-4e2c-90a8-146ac7e24f44"
      },
      "execution_count": 122,
      "outputs": [
        {
          "output_type": "execute_result",
          "data": {
            "text/plain": [
              "<tf.Tensor: shape=(3, 3), dtype=float32, numpy=\n",
              "array([[-3.1179538 , -0.3399103 ,  1.0268608 ],\n",
              "       [-1.6873126 ,  1.7158719 , -0.25646275],\n",
              "       [-1.3675727 , -0.17333645,  0.72422135]], dtype=float32)>"
            ]
          },
          "metadata": {},
          "execution_count": 122
        }
      ]
    },
    {
      "cell_type": "code",
      "source": [
        "# 5. Data Type Conversion and Aggregation:\n",
        "# Create a tensor with integer values: tf.constant([1, 5, 10, -3, 8]).\n",
        "# Calculate the standard deviation and variance of this tensor. What do you need to do to the tensor's data type before you can perform these calculations?\n",
        "\n",
        "tensor = tf.constant([1, 5, 10, -3, 8])\n",
        "tensor = tf.cast(tensor, dtype = tf.float32)\n",
        "\n",
        "tf.math.reduce_variance(tensor), tf.math.reduce_std(tensor),"
      ],
      "metadata": {
        "colab": {
          "base_uri": "https://localhost:8080/"
        },
        "id": "PmXhsaEF5-EH",
        "outputId": "6476672d-5a65-442b-f545-a41fbdd8142c"
      },
      "execution_count": 139,
      "outputs": [
        {
          "output_type": "execute_result",
          "data": {
            "text/plain": [
              "(<tf.Tensor: shape=(), dtype=float32, numpy=22.15999984741211>,\n",
              " <tf.Tensor: shape=(), dtype=float32, numpy=4.7074408531188965>)"
            ]
          },
          "metadata": {},
          "execution_count": 139
        }
      ]
    },
    {
      "cell_type": "code",
      "source": [
        "# 6. Indexing to Find Extrema:\n",
        "# Create a random tensor of shape [20] with values between 0 and 1.\n",
        "# Find the index (position) of the maximum value in this tensor.\n",
        "# Use the found index to retrieve the maximum value from the tensor.\n",
        "\n",
        "tf.random.set_seed(42)\n",
        "tensor = tf.random.uniform(shape = [20])\n",
        "max_index = tf.argmax(tensor)              # return the index of the positional maximun\n",
        "\n",
        "tensor[max_index], tensor                # use the index to retrieve the maximun value"
      ],
      "metadata": {
        "colab": {
          "base_uri": "https://localhost:8080/"
        },
        "id": "Lkfx259r6h9m",
        "outputId": "ba006455-28ab-47f6-e238-a617751613c7"
      },
      "execution_count": 138,
      "outputs": [
        {
          "output_type": "execute_result",
          "data": {
            "text/plain": [
              "(<tf.Tensor: shape=(), dtype=float32, numpy=0.8996834754943848>,\n",
              " <tf.Tensor: shape=(20,), dtype=float32, numpy=\n",
              " array([0.6645621 , 0.44100678, 0.3528825 , 0.46448255, 0.03366041,\n",
              "        0.68467236, 0.74011743, 0.8724445 , 0.22632635, 0.22319686,\n",
              "        0.3103881 , 0.7223358 , 0.13318717, 0.5480639 , 0.5746088 ,\n",
              "        0.8996835 , 0.00946367, 0.5212307 , 0.6345445 , 0.1993283 ],\n",
              "       dtype=float32)>)"
            ]
          },
          "metadata": {},
          "execution_count": 138
        }
      ]
    },
    {
      "cell_type": "code",
      "source": [
        "# 7. Manipulating Tensor Shapes:\n",
        "# Create a tensor with the shape (1, 1, 5, 1).\n",
        "# Use tf.squeeze() to remove the dimensions of size 1. What is the new shape of the tensor?\n",
        "\n",
        "tf.random.set_seed(42)\n",
        "tensor = tf.random.Generator.from_seed(42)\n",
        "tensor = tensor.uniform(shape = (1, 1, 5, 1))\n",
        "\n",
        "tensor, tf.squeeze(tensor)"
      ],
      "metadata": {
        "colab": {
          "base_uri": "https://localhost:8080/"
        },
        "id": "ewpVD5cW8VcZ",
        "outputId": "cf5bcff9-369e-409d-f984-160b0baba037"
      },
      "execution_count": 137,
      "outputs": [
        {
          "output_type": "execute_result",
          "data": {
            "text/plain": [
              "(<tf.Tensor: shape=(1, 1, 5, 1), dtype=float32, numpy=\n",
              " array([[[[0.7493447 ],\n",
              "          [0.73561966],\n",
              "          [0.45230794],\n",
              "          [0.49039817],\n",
              "          [0.1889317 ]]]], dtype=float32)>,\n",
              " <tf.Tensor: shape=(5,), dtype=float32, numpy=\n",
              " array([0.7493447 , 0.73561966, 0.45230794, 0.49039817, 0.1889317 ],\n",
              "       dtype=float32)>)"
            ]
          },
          "metadata": {},
          "execution_count": 137
        }
      ]
    },
    {
      "cell_type": "code",
      "source": [
        "# 8. One-Hot Encoding:\n",
        "# You have a list of indices representing different categories: [0, 2, 1, 3, 0].\n",
        "# Assume there are 4 unique categories in total. One-hot encode this list of indices.\n",
        "\n",
        "mylist = [0, 2, 1, 3, 0]\n",
        "tf.one_hot(mylist, depth = 4)"
      ],
      "metadata": {
        "colab": {
          "base_uri": "https://localhost:8080/"
        },
        "id": "WJ49Wawl9J8N",
        "outputId": "0935731d-d5c5-4b82-eff5-56adf0a272d5"
      },
      "execution_count": 142,
      "outputs": [
        {
          "output_type": "execute_result",
          "data": {
            "text/plain": [
              "<tf.Tensor: shape=(5, 4), dtype=float32, numpy=\n",
              "array([[1., 0., 0., 0.],\n",
              "       [0., 0., 1., 0.],\n",
              "       [0., 1., 0., 0.],\n",
              "       [0., 0., 0., 1.],\n",
              "       [1., 0., 0., 0.]], dtype=float32)>"
            ]
          },
          "metadata": {},
          "execution_count": 142
        }
      ]
    },
    {
      "cell_type": "code",
      "source": [
        "# 9. Basic Mathematical Operations:\n",
        "# Create a tensor H using tf.range(1, 11).\n",
        "# Perform the following operations on H:\n",
        "# Find the natural logarithm (log).\n",
        "# Find the square root.\n",
        "# What must you do to tensor H before you can perform these operations?\n",
        "\n",
        "tensor = tf.range(1,11)\n",
        "tensor   # dtype=int32\n",
        "\n",
        "# need type casting before using log and sqrt finction\n",
        "tf.math.log(tf.cast(tensor, tf.float32)), tf.math.sqrt(tf.cast(tensor, tf.float32))"
      ],
      "metadata": {
        "colab": {
          "base_uri": "https://localhost:8080/"
        },
        "id": "ZnRBJaCH-xiE",
        "outputId": "acd9b507-94da-40d2-a08b-1e6ff0ac8303"
      },
      "execution_count": 155,
      "outputs": [
        {
          "output_type": "execute_result",
          "data": {
            "text/plain": [
              "(<tf.Tensor: shape=(10,), dtype=float32, numpy=\n",
              " array([0.       , 0.6931472, 1.0986123, 1.3862944, 1.609438 , 1.7917595,\n",
              "        1.9459102, 2.0794415, 2.1972246, 2.3025851], dtype=float32)>,\n",
              " <tf.Tensor: shape=(10,), dtype=float32, numpy=\n",
              " array([1.       , 1.4142135, 1.7320508, 2.       , 2.236068 , 2.4494898,\n",
              "        2.6457512, 2.828427 , 3.       , 3.1622777], dtype=float32)>)"
            ]
          },
          "metadata": {},
          "execution_count": 155
        }
      ]
    },
    {
      "cell_type": "code",
      "source": [
        "# 10. Tensors and NumPy:\n",
        "# Create a NumPy array with the values [3.0, 5.0, 7.0].\n",
        "# Convert this NumPy array into a TensorFlow tensor.\n",
        "# What is the default data type of the resulting tensor when created from a NumPy array with floating-point numbers? How does it differ from a tensor created directly using tf.constant([3.0, 5.0, 7.0])?\n",
        "\n",
        "myarray = np.array([3.0, 5.0, 7.0])\n",
        "tensor_1 = tf.constant(myarray)\n",
        "tensor_2 = tf.constant([3.0, 5.0, 7.0])\n",
        "\n",
        "tensor_1, tensor_2"
      ],
      "metadata": {
        "colab": {
          "base_uri": "https://localhost:8080/"
        },
        "id": "-yGmC-Yo_5YP",
        "outputId": "ee687e89-aa32-44a6-dd08-173044f5284b"
      },
      "execution_count": 159,
      "outputs": [
        {
          "output_type": "execute_result",
          "data": {
            "text/plain": [
              "(<tf.Tensor: shape=(3,), dtype=float64, numpy=array([3., 5., 7.])>,\n",
              " <tf.Tensor: shape=(3,), dtype=float32, numpy=array([3., 5., 7.], dtype=float32)>)"
            ]
          },
          "metadata": {},
          "execution_count": 159
        }
      ]
    },
    {
      "cell_type": "markdown",
      "source": [
        "### Excercise 3 (Advanced)"
      ],
      "metadata": {
        "id": "PydOIFwGBvna"
      }
    },
    {
      "cell_type": "code",
      "source": [
        "# 1. Data Pipeline Simulation\n",
        "# Create a tensor A with the shape (3, 5) containing random integer values between 0 and 50.\n",
        "# Create a second tensor B with the shape (3, 5) containing random floating-point values between 0 and 1.\n",
        "# Perform the following operation: (A * 5) + B. What must you do to tensor A's data type for this operation to work?\n",
        "# Finally, find the sum of all elements in the resulting tensor.\n",
        "\n",
        "tensor_1 = tf.random.uniform(minval = 0, maxval = 50, shape = (3, 5), dtype = tf.int32)\n",
        "tensor_2 = tf.random.uniform(minval = 0, maxval = 50, shape = (3, 5), dtype = tf.float32)\n",
        "\n",
        "tensor_3 = tf.cast(tensor_1, dtype = tf.float32)*5 + tensor_2\n",
        "tf.reduce_sum(tensor_3)"
      ],
      "metadata": {
        "colab": {
          "base_uri": "https://localhost:8080/"
        },
        "id": "bvKn8sO7B9Z9",
        "outputId": "cdb3b80a-ec1b-4951-a648-16cf063c2e04"
      },
      "execution_count": 190,
      "outputs": [
        {
          "output_type": "execute_result",
          "data": {
            "text/plain": [
              "<tf.Tensor: shape=(), dtype=float32, numpy=2152.98193359375>"
            ]
          },
          "metadata": {},
          "execution_count": 190
        }
      ]
    },
    {
      "cell_type": "markdown",
      "source": [
        "1. tf.random.uniform: This is a simple, direct function. It's the most common way to create a single random tensor.\n",
        "\n",
        "- tensor = tf.random.uniform(shape=(2, 2), minval=0, maxval=10, dtype=tf.int32, seed=42)\n",
        "\n",
        "2. tf.random.Generator: This creates an object that manages its own internal state for random number generation. It is useful in more complex situations where you need to pass a specific source of randomness to different parts of your program.\n",
        "\n",
        "- Create a generator object with a seed\n",
        "g = tf.random.Generator.from_seed(42)\n",
        "\n",
        "- Use the object to create a random tensor\n",
        "tensor_1 = g.uniform(shape=(2, 2), minval=0, maxval=10, dtype=tf.int32)\n",
        "\n",
        "- Use it again to get the next random tensor in the sequence\n",
        "tensor_2 = g.uniform(shape=(2, 2), minval=0, maxval=10, dtype=tf.int32)"
      ],
      "metadata": {
        "id": "1mm79bt_Ee0t"
      }
    },
    {
      "cell_type": "code",
      "source": [
        "# 2. Matrix Multiplication and Broadcasting\n",
        "# Create a tensor X of shape (4, 3) with random values.\n",
        "# Create a vector v of shape (3,) with random values.\n",
        "# Can you multiply X by v using tf.matmul? If not, what must you do to v to make the shapes compatible for matrix multiplication?\n",
        "# Perform the multiplication. What is the shape of the resulting tensor?\n",
        "\n",
        "X = tf.random.uniform(shape = (4,3))\n",
        "v = tf.random.uniform(shape = (3,))\n",
        "v = tf.reshape(v, shape = (3,1))\n",
        "\n",
        "tf.matmul(X, v)"
      ],
      "metadata": {
        "colab": {
          "base_uri": "https://localhost:8080/"
        },
        "id": "wfpeXnScGYAD",
        "outputId": "6981a933-1ba2-4e9a-e031-50a6f99d8826"
      },
      "execution_count": 256,
      "outputs": [
        {
          "output_type": "execute_result",
          "data": {
            "text/plain": [
              "<tf.Tensor: shape=(4, 1), dtype=float32, numpy=\n",
              "array([[0.6328528 ],\n",
              "       [0.8895362 ],\n",
              "       [1.1871238 ],\n",
              "       [0.67850834]], dtype=float32)>"
            ]
          },
          "metadata": {},
          "execution_count": 256
        }
      ]
    },
    {
      "cell_type": "markdown",
      "source": [
        "use tf.reshape() on vector v to satisfy the rule of matrix multiplication"
      ],
      "metadata": {
        "id": "xnYv0JZ1RNqx"
      }
    },
    {
      "cell_type": "code",
      "source": [
        "# 3. Reproducible Shuffling and Aggregation\n",
        "# Create a tensor containing the integers from 0 to 14, and reshape it into a (3, 5) matrix.\n",
        "# Set the global random seed to 42.\n",
        "# Shuffle this tensor so that the rows are in a new, random order, but the values within each row remain the same.\n",
        "# From this shuffled tensor, find the mean of the values in each column.\n",
        "\n",
        "tf.random.set_seed(42)\n",
        "tensor = tf.random.uniform(minval = 0, maxval = 14, shape = (3,5))\n",
        "tensor_shuffled = tf.random.shuffle(tensor)\n",
        "\n",
        "tensor, tensor_shuffled"
      ],
      "metadata": {
        "colab": {
          "base_uri": "https://localhost:8080/"
        },
        "id": "HS7RsF4IG75M",
        "outputId": "813c972f-4d20-4142-8fc0-b5242fd8d3eb"
      },
      "execution_count": 205,
      "outputs": [
        {
          "output_type": "execute_result",
          "data": {
            "text/plain": [
              "(<tf.Tensor: shape=(3, 5), dtype=float32, numpy=\n",
              " array([[ 9.303869  ,  6.174095  ,  4.9403553 ,  6.5027556 ,  0.47124577],\n",
              "        [ 9.585413  , 10.361644  , 12.214223  ,  3.1685688 ,  3.124756  ],\n",
              "        [ 4.345433  , 10.112701  ,  1.8646204 ,  7.6728945 ,  8.044523  ]],\n",
              "       dtype=float32)>,\n",
              " <tf.Tensor: shape=(3, 5), dtype=float32, numpy=\n",
              " array([[ 4.345433  , 10.112701  ,  1.8646204 ,  7.6728945 ,  8.044523  ],\n",
              "        [ 9.303869  ,  6.174095  ,  4.9403553 ,  6.5027556 ,  0.47124577],\n",
              "        [ 9.585413  , 10.361644  , 12.214223  ,  3.1685688 ,  3.124756  ]],\n",
              "       dtype=float32)>)"
            ]
          },
          "metadata": {},
          "execution_count": 205
        }
      ]
    },
    {
      "cell_type": "code",
      "source": [
        "# 4. Finding and Masking the Maximum Value\n",
        "# Create a random tensor of shape (5, 5).\n",
        "# Find the position (index) of the single largest value in the entire flattened tensor.\n",
        "# Create a new tensor of the same (5, 5) shape that is all zeros, except for a 1.0 at the position of the maximum value you found.\n",
        "# Hint: You might need to combine tf.argmax, tf.one_hot, and tf.reshape\n",
        "\n",
        "tf.random.set_seed(42)\n",
        "tensor = tf.random.uniform(shape = (5,5))\n",
        "tensor_reshaped = tf.reshape(tensor, shape = (25))   # flatten the tensor\n",
        "tf.argmax(tensor_reshaped)                  # index of the positional maximun of the flattened tensor\n",
        "\n",
        "mylist = list(0 for i in range(25))\n",
        "mylist[tf.argmax(tensor_reshaped)] = 1           # mylist = [0, 0, 0, 0, 0, 0, 0, 0, 0, 0, 0, 0, 0, 0, 0, 1, 0, 0, 0, 0, 0, 0, 0, 0, 0]\n",
        "\n",
        "tf.convert_to_tensor(mylist)\n",
        "tf.reshape(mylist, shape = (5,5))"
      ],
      "metadata": {
        "colab": {
          "base_uri": "https://localhost:8080/"
        },
        "id": "VOracVBHHubs",
        "outputId": "70604e3b-b2a1-412f-c53f-934c6888f911"
      },
      "execution_count": 238,
      "outputs": [
        {
          "output_type": "execute_result",
          "data": {
            "text/plain": [
              "<tf.Tensor: shape=(5, 5), dtype=int32, numpy=\n",
              "array([[0, 0, 0, 0, 0],\n",
              "       [0, 0, 0, 0, 0],\n",
              "       [0, 0, 0, 0, 0],\n",
              "       [1, 0, 0, 0, 0],\n",
              "       [0, 0, 0, 0, 0]], dtype=int32)>"
            ]
          },
          "metadata": {},
          "execution_count": 238
        }
      ]
    },
    {
      "cell_type": "code",
      "source": [
        "# alternative for practice 4\n",
        "# Flatten the tensor and find the index of the max value\n",
        "flat_tensor = tf.reshape(tensor, [-1]) # -1 is a shortcut to flatten\n",
        "max_index = tf.argmax(flat_tensor)\n",
        "\n",
        "# Use tf.one_hot to create the flat mask\n",
        "# The depth must be the total number of elements (25)\n",
        "mask_flat = tf.one_hot(max_index, depth=25)\n",
        "\n",
        "# Reshape the flat mask to the final (5, 5) shape\n",
        "mask = tf.reshape(mask_flat, (5, 5))\n",
        "\n",
        "print(mask)"
      ],
      "metadata": {
        "colab": {
          "base_uri": "https://localhost:8080/"
        },
        "id": "UL6uFkffNSJI",
        "outputId": "a296b18e-22ef-41ca-f763-0ecfb95e033d"
      },
      "execution_count": 239,
      "outputs": [
        {
          "output_type": "stream",
          "name": "stdout",
          "text": [
            "tf.Tensor(\n",
            "[[0. 0. 0. 0. 0.]\n",
            " [0. 0. 0. 0. 0.]\n",
            " [0. 0. 0. 0. 0.]\n",
            " [1. 0. 0. 0. 0.]\n",
            " [0. 0. 0. 0. 0.]], shape=(5, 5), dtype=float32)\n"
          ]
        }
      ]
    },
    {
      "cell_type": "markdown",
      "source": [
        "**Note**\n",
        "\n",
        "Breaking Down tf.one_hot(indices, depth)\n",
        "The function needs two main inputs:\n",
        "\n",
        "- indices: This is the position you want to turn \"on\". In this case, it's the index of the maximum value you found with tf.argmax. So, indices would be 17.**(The output of tf.one_hot will have one more dimension than the input indices tensor.)**\n",
        "\n",
        "- depth: This tells the function how long the final vector should be (how many \"switches\" are on the control panel). Since your flattened tensor has 25 elements, you need a vector of length 25 to represent all possible positions. Therefore, depth=25"
      ],
      "metadata": {
        "id": "s8JjogFVNvkh"
      }
    },
    {
      "cell_type": "code",
      "source": [
        "# 5. Transpose vs. Reshape for Dot Product\n",
        "# Create a tensor M with shape (2, 3) using values from tf.range(6).\n",
        "# Create a second tensor N with the same shape (2, 3) using values from tf.range(start=6, limit=12).\n",
        "# Calculate the dot product of M and N. To do this, you will need to modify the shape of N.\n",
        "# Perform the dot product twice:\n",
        "# First, by using tf.transpose() on N.\n",
        "# Second, by using tf.reshape() on N.\n",
        "# Print both results. Are they the same? Briefly explain why or why not, based on your notebook's explanation of transpose and reshape.\n",
        "\n",
        "M = tf.range(6)\n",
        "N = tf.range(start=6, limit=12)\n",
        "\n",
        "M_1 = tf.reshape(M, shape = (2,3))\n",
        "N_1 = tf.reshape(N, shape = (2,3))\n",
        "\n",
        "product_reshaped = tf.matmul(M_1, tf.reshape(N_1, shape = (3,2)))\n",
        "product_transposed = tf.matmul(M_1, tf.transpose(N_1))\n",
        "\n",
        "product_reshaped, product_transposed"
      ],
      "metadata": {
        "colab": {
          "base_uri": "https://localhost:8080/"
        },
        "id": "lzfqrE8QN3RP",
        "outputId": "02db2565-ec8d-4c92-914c-d91f45c127b5"
      },
      "execution_count": 252,
      "outputs": [
        {
          "output_type": "execute_result",
          "data": {
            "text/plain": [
              "(<tf.Tensor: shape=(2, 2), dtype=int32, numpy=\n",
              " array([[ 28,  31],\n",
              "        [100, 112]], dtype=int32)>,\n",
              " <tf.Tensor: shape=(2, 2), dtype=int32, numpy=\n",
              " array([[ 23,  32],\n",
              "        [ 86, 122]], dtype=int32)>)"
            ]
          },
          "metadata": {},
          "execution_count": 252
        }
      ]
    },
    {
      "cell_type": "markdown",
      "source": [
        "### List of TensorFlow Python APIs - Pick one we haven't gone through in this notebook\n"
      ],
      "metadata": {
        "id": "h1HqRzGQpRMs"
      }
    },
    {
      "cell_type": "markdown",
      "source": [
        "**tf.concat**"
      ],
      "metadata": {
        "id": "NCroh9VdsDNe"
      }
    },
    {
      "cell_type": "code",
      "source": [
        "tensor_1 = tf.constant([[1,2,3],\n",
        "             [4,5,6]])\n",
        "tensor_2 = tf.constant([[7,8,9],\n",
        "             [10,11,12]])\n",
        "tensor_3 = tf.concat([tensor_1, tensor_2], axis = 0)    # concat at axix = 0\n",
        "tensor_4 = tf.concat([tensor_1, tensor_2], axis = 1)    # concat at axix = 1\n",
        "tensor_3, tensor_4"
      ],
      "metadata": {
        "colab": {
          "base_uri": "https://localhost:8080/"
        },
        "id": "S_Vx6xfJpf4M",
        "outputId": "8cb9606d-4951-4d99-caf1-8398fc800a38"
      },
      "execution_count": 161,
      "outputs": [
        {
          "output_type": "execute_result",
          "data": {
            "text/plain": [
              "(<tf.Tensor: shape=(4, 3), dtype=int32, numpy=\n",
              " array([[ 1,  2,  3],\n",
              "        [ 4,  5,  6],\n",
              "        [ 7,  8,  9],\n",
              "        [10, 11, 12]], dtype=int32)>,\n",
              " <tf.Tensor: shape=(2, 6), dtype=int32, numpy=\n",
              " array([[ 1,  2,  3,  7,  8,  9],\n",
              "        [ 4,  5,  6, 10, 11, 12]], dtype=int32)>)"
            ]
          },
          "metadata": {},
          "execution_count": 161
        }
      ]
    },
    {
      "cell_type": "markdown",
      "source": [
        "**tf.convert_to_tensor**\n"
      ],
      "metadata": {
        "id": "ZOa6WZIssJr2"
      }
    },
    {
      "cell_type": "code",
      "source": [
        "mylist = [1,2,3,4]\n",
        "tf.convert_to_tensor(mylist)"
      ],
      "metadata": {
        "colab": {
          "base_uri": "https://localhost:8080/"
        },
        "id": "l-gEIKbLr6dn",
        "outputId": "ca4bd2b1-3fb2-4bbc-8601-ca7cb40c0615"
      },
      "execution_count": 162,
      "outputs": [
        {
          "output_type": "execute_result",
          "data": {
            "text/plain": [
              "<tf.Tensor: shape=(4,), dtype=int32, numpy=array([1, 2, 3, 4], dtype=int32)>"
            ]
          },
          "metadata": {},
          "execution_count": 162
        }
      ]
    },
    {
      "cell_type": "code",
      "source": [
        "mytuple = (1,2,3,4)\n",
        "tf.convert_to_tensor(mytuple)"
      ],
      "metadata": {
        "colab": {
          "base_uri": "https://localhost:8080/"
        },
        "id": "utBwBT-Qr_xU",
        "outputId": "2c33ce26-156a-475e-8b33-d20942d064bd"
      },
      "execution_count": 163,
      "outputs": [
        {
          "output_type": "execute_result",
          "data": {
            "text/plain": [
              "<tf.Tensor: shape=(4,), dtype=int32, numpy=array([1, 2, 3, 4], dtype=int32)>"
            ]
          },
          "metadata": {},
          "execution_count": 163
        }
      ]
    },
    {
      "cell_type": "code",
      "source": [
        "# create a function to convert python list or python tuple to a tensor with specified datatype\n",
        "def convert_to_tensor_function(arg):\n",
        "  tensor = tf.convert_to_tensor(arg, dtype = tf.float32)\n",
        "  return tensor\n",
        "\n",
        "convert_to_tensor_function([1,2,3,4]), convert_to_tensor_function((1,2,3,4))"
      ],
      "metadata": {
        "colab": {
          "base_uri": "https://localhost:8080/"
        },
        "id": "0TjQasSysTxq",
        "outputId": "d2002648-0547-4959-9963-4b5edc275b0e"
      },
      "execution_count": 164,
      "outputs": [
        {
          "output_type": "execute_result",
          "data": {
            "text/plain": [
              "(<tf.Tensor: shape=(4,), dtype=float32, numpy=array([1., 2., 3., 4.], dtype=float32)>,\n",
              " <tf.Tensor: shape=(4,), dtype=float32, numpy=array([1., 2., 3., 4.], dtype=float32)>)"
            ]
          },
          "metadata": {},
          "execution_count": 164
        }
      ]
    }
  ]
}