{
  "nbformat": 4,
  "nbformat_minor": 0,
  "metadata": {
    "colab": {
      "provenance": []
    },
    "kernelspec": {
      "name": "python3",
      "display_name": "Python 3"
    },
    "language_info": {
      "name": "python"
    }
  },
  "cells": [
    {
      "cell_type": "markdown",
      "source": [
        "## Useful TensorFlow apis"
      ],
      "metadata": {
        "id": "4DOrq4WuvhBr"
      }
    },
    {
      "cell_type": "markdown",
      "source": [
        "#### **Core Tensor Operations and Data Types**\n",
        "- tf.Tensor: The fundamental data structure; a multi-dimensional array.\n",
        "\n",
        "- tf.Variable: Trainable, mutable tensors used for model parameters.\n",
        "\n",
        "- tf.constant: Creates an immutable tensor from Python values.\n",
        "\n",
        "- tf.convert_to_tensor: Converts Python objects (e.g., NumPy arrays) to TensorFlow tensors.\n",
        "\n",
        "- t- f.DType: Represents the data type of tensor elements (e.g., tf.float32, tf.int64).\n",
        "\n",
        "- tf.cast: Changes the data type of a tensor.\n",
        "\n",
        "#### **Basic Tensor Manipulation**\n",
        "- tf.concat: Joins tensors along a specified axis.\n",
        "\n",
        "- tf.reshape: Changes the shape of a tensor without altering its data.\n",
        "\n",
        "- tf.squeeze: Removes dimensions of size 1.\n",
        "\n",
        "- tf.expand_dims: Adds a dimension of size 1 at a specified axis.\n",
        "\n",
        "- tf.stack: Stacks a list of rank-R tensors into a rank-(R+1) tensor.\n",
        "\n",
        "- tf.unstack: Unpacks a tensor into a list of tensors along an axis.\n",
        "\n",
        "- tf.split: Divides a tensor into multiple sub-tensors along an axis.\n",
        "\n",
        "#### **Mathematical Operations**\n",
        "- tf.add, tf.subtract, tf.multiply, tf.divide: Element-wise arithmetic operations.\n",
        "\n",
        "- tf.matmul: Performs matrix multiplication.\n",
        "\n",
        "- tf.reduce_sum, tf.reduce_mean, tf.reduce_max, tf.reduce_min: Computes reductions (sum, mean, max, min) along tensor dimensions.\n",
        "\n",
        "- tf.argmax, tf.argmin: Returns the index of the maximum/minimum value along an axis.\n",
        "\n",
        "- tf.square, tf.sqrt, tf.exp, tf.log: Common element-wise mathematical functions.\n",
        "\n",
        "- tf.abs: Computes the absolute value element-wise.\n",
        "\n",
        "- tf.clip_by_value, tf.clip_by_norm: Clips tensor values or norms to a specified range/limit.\n",
        "\n",
        "#### **Control Flow and Conditional Operations**\n",
        "- tf.cond: Executes one of two branches based on a boolean predicate.\n",
        "\n",
        "- tf.case: Executes one of multiple branches based on several conditions.\n",
        "\n",
        "#### **Gradient Computation**\n",
        "- tf.GradientTape: Records operations for automatic differentiation, enabling gradient calculation.\n",
        "\n",
        "#### **Data Input Pipelines**\n",
        "- tf.data.Dataset: The core API for building efficient input pipelines.\n",
        "\n",
        "- tf.data.Dataset.from_tensor_slices: Creates a dataset from in-memory tensors or NumPy arrays.\n",
        "\n",
        "- tf.data.Dataset.map: Applies a transformation function to each element of the dataset.\n",
        "\n",
        "- tf.data.Dataset.batch: Combines consecutive elements into batches.\n",
        "\n",
        "- tf.data.Dataset.shuffle: Randomly shuffles the elements of the dataset.\n",
        "\n",
        "- tf.data.Dataset.prefetch: Overlaps data preprocessing and model execution for performance.\n",
        "\n",
        "#### **Utility and Debugging**\n",
        "- tf.executing_eagerly(): Checks if eager execution is enabled.\n",
        "\n",
        "- tf.print: Prints tensor values and strings, useful for debugging.\n",
        "\n",
        "- tf.debugging: Module containing various assertion functions (e.g., tf.debugging.assert_equal, tf.debugging.check_numerics) for verifying conditions and identifying issues."
      ],
      "metadata": {
        "id": "lCW1AXrVvsmF"
      }
    },
    {
      "cell_type": "code",
      "source": [],
      "metadata": {
        "id": "7ubTQ6fDvxiK"
      },
      "execution_count": null,
      "outputs": []
    }
  ]
}