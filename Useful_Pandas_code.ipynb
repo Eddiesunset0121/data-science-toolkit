{
  "metadata": {
    "kernelspec": {
      "name": "python",
      "display_name": "Python (Pyodide)",
      "language": "python"
    },
    "language_info": {
      "codemirror_mode": {
        "name": "python",
        "version": 3
      },
      "file_extension": ".py",
      "mimetype": "text/x-python",
      "name": "python",
      "nbconvert_exporter": "python",
      "pygments_lexer": "ipython3",
      "version": "3.8"
    }
  },
  "nbformat_minor": 5,
  "nbformat": 4,
  "cells": [
    {
      "id": "ab6da298-3eb6-45c2-81e5-c880eccdff54",
      "cell_type": "markdown",
      "source": "Useful Pandas functions for EDA",
      "metadata": {}
    },
    {
      "id": "aa184b9a-09b3-44e0-999f-45a470885f14",
      "cell_type": "code",
      "source": "df = pd.read_csv('data.csv')                          # Read CSV file\ndf.head()                                             # Preview top rows\ndf.info()                                             # Summary of DataFrame\ndf.describe()                                         # Summary statistics\ndf.isnull().sum()                                     # Count null values\ndf.fillna(0, inplace=True)                            # Replace NaNs with 0\ndf.dropna(inplace=True)                               # Remove NaN rows\ndf.rename(columns={'old': 'new'}, inplace=True)       # Rename column\ndf[df['col'] > 10]                                    # Filter by condition\ndf.groupby('col').mean()                              # Group + mean\ndf.sort_values(by='col', ascending=False)             # Sort descending\ndf['new_col'] = df['col1'] + df['col2']               # Add new column\ndf.drop('col_name', axis=1, inplace=True)             # Drop column\ndf['col'].unique()                                    # Get unique entries\ndf['col'].value_counts()                              # Count unique entries\ndf['col'] = df['col'].astype(str)                     # Convert to string\ndf['col'] = df['col'].apply(lambda x: x * 2)          # Custom function\ndf['col'].str.lower()                                 # Convert to lowercase\npd.merge(df1, df2, on='id')                           # Merge on key\npd.concat([df1, df2])                                 # Stack DataFrames\ndf.reset_index(drop=True, inplace=True)               # Reset index\ndf.set_index('id', inplace=True)                      # Set index column\ndf.duplicated().sum()                                 # Count duplicates\ndf.drop_duplicates(inplace=True)                      # Remove duplicates\ndf.to_csv('cleaned.csv', index=False)                 # Save to CSV",
      "metadata": {
        "trusted": true
      },
      "outputs": [],
      "execution_count": null
    }
  ]
}